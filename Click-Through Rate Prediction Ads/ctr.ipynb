{
 "cells": [
  {
   "cell_type": "markdown",
   "metadata": {},
   "source": [
    "# CTR prediction using ML Models– from scratch\n",
    "\n",
    "we will build two machine learning models for predicting whether an ad\n",
    "will be clicked or not. We will use a data set from a Kaggle competition by Avazu – “Click-Through Rate Prediction”.\n"
   ]
  },
  {
   "cell_type": "code",
   "execution_count": 20,
   "metadata": {},
   "outputs": [],
   "source": [
    "import numpy as np\n",
    "import pandas as pd\n",
    "import seaborn as sns\n",
    "\n",
    "import dask.dataframe as dask_data\n",
    "import matplotlib.pyplot as plt\n",
    "from matplotlib import style\n",
    "%matplotlib inline\n",
    "from datetime import datetime, date, time"
   ]
  },
  {
   "cell_type": "code",
   "execution_count": 21,
   "metadata": {},
   "outputs": [],
   "source": [
    "''' Specifying a sample of the original training data \n",
    "    Number of records === 40428966 (excess of 40 million records)\n",
    "    \n",
    "    Using random sampling to select a sample of 1 million records \n",
    "'''\n",
    "import random\n",
    "n = 40428966  #total number of records in the clickstream data \n",
    "sample_size = 1000000\n",
    "skip_values = sorted(random.sample(range(1,n), n-sample_size)) \n",
    "\n",
    "''' LOADING stage \n",
    "    Reading the sampled train data\n",
    "    Size : 1 million records\n",
    "'''\n",
    "train= pd.read_csv('train.csv', skiprows = skip_values )"
   ]
  },
  {
   "cell_type": "code",
   "execution_count": 22,
   "metadata": {},
   "outputs": [
    {
     "data": {
      "text/html": [
       "<div>\n",
       "<style scoped>\n",
       "    .dataframe tbody tr th:only-of-type {\n",
       "        vertical-align: middle;\n",
       "    }\n",
       "\n",
       "    .dataframe tbody tr th {\n",
       "        vertical-align: top;\n",
       "    }\n",
       "\n",
       "    .dataframe thead th {\n",
       "        text-align: right;\n",
       "    }\n",
       "</style>\n",
       "<table border=\"1\" class=\"dataframe\">\n",
       "  <thead>\n",
       "    <tr style=\"text-align: right;\">\n",
       "      <th></th>\n",
       "      <th>id</th>\n",
       "      <th>hour</th>\n",
       "      <th>C1</th>\n",
       "      <th>banner_pos</th>\n",
       "      <th>site_id</th>\n",
       "      <th>site_domain</th>\n",
       "      <th>site_category</th>\n",
       "      <th>app_id</th>\n",
       "      <th>app_domain</th>\n",
       "      <th>app_category</th>\n",
       "      <th>...</th>\n",
       "      <th>device_type</th>\n",
       "      <th>device_conn_type</th>\n",
       "      <th>C14</th>\n",
       "      <th>C15</th>\n",
       "      <th>C16</th>\n",
       "      <th>C17</th>\n",
       "      <th>C18</th>\n",
       "      <th>C19</th>\n",
       "      <th>C20</th>\n",
       "      <th>C21</th>\n",
       "    </tr>\n",
       "  </thead>\n",
       "  <tbody>\n",
       "    <tr>\n",
       "      <th>0</th>\n",
       "      <td>1.000017e+19</td>\n",
       "      <td>14103100</td>\n",
       "      <td>1005</td>\n",
       "      <td>0</td>\n",
       "      <td>235ba823</td>\n",
       "      <td>f6ebf28e</td>\n",
       "      <td>f028772b</td>\n",
       "      <td>ecad2386</td>\n",
       "      <td>7801e8d9</td>\n",
       "      <td>07d7df22</td>\n",
       "      <td>...</td>\n",
       "      <td>1</td>\n",
       "      <td>0</td>\n",
       "      <td>8330</td>\n",
       "      <td>320</td>\n",
       "      <td>50</td>\n",
       "      <td>761</td>\n",
       "      <td>3</td>\n",
       "      <td>175</td>\n",
       "      <td>100075</td>\n",
       "      <td>23</td>\n",
       "    </tr>\n",
       "    <tr>\n",
       "      <th>1</th>\n",
       "      <td>1.000018e+19</td>\n",
       "      <td>14103100</td>\n",
       "      <td>1005</td>\n",
       "      <td>0</td>\n",
       "      <td>1fbe01fe</td>\n",
       "      <td>f3845767</td>\n",
       "      <td>28905ebd</td>\n",
       "      <td>ecad2386</td>\n",
       "      <td>7801e8d9</td>\n",
       "      <td>07d7df22</td>\n",
       "      <td>...</td>\n",
       "      <td>1</td>\n",
       "      <td>0</td>\n",
       "      <td>22676</td>\n",
       "      <td>320</td>\n",
       "      <td>50</td>\n",
       "      <td>2616</td>\n",
       "      <td>0</td>\n",
       "      <td>35</td>\n",
       "      <td>100083</td>\n",
       "      <td>51</td>\n",
       "    </tr>\n",
       "    <tr>\n",
       "      <th>2</th>\n",
       "      <td>1.000055e+19</td>\n",
       "      <td>14103100</td>\n",
       "      <td>1005</td>\n",
       "      <td>0</td>\n",
       "      <td>1fbe01fe</td>\n",
       "      <td>f3845767</td>\n",
       "      <td>28905ebd</td>\n",
       "      <td>ecad2386</td>\n",
       "      <td>7801e8d9</td>\n",
       "      <td>07d7df22</td>\n",
       "      <td>...</td>\n",
       "      <td>1</td>\n",
       "      <td>0</td>\n",
       "      <td>22676</td>\n",
       "      <td>320</td>\n",
       "      <td>50</td>\n",
       "      <td>2616</td>\n",
       "      <td>0</td>\n",
       "      <td>35</td>\n",
       "      <td>100083</td>\n",
       "      <td>51</td>\n",
       "    </tr>\n",
       "    <tr>\n",
       "      <th>3</th>\n",
       "      <td>1.000109e+19</td>\n",
       "      <td>14103100</td>\n",
       "      <td>1005</td>\n",
       "      <td>0</td>\n",
       "      <td>85f751fd</td>\n",
       "      <td>c4e18dd6</td>\n",
       "      <td>50e219e0</td>\n",
       "      <td>51cedd4e</td>\n",
       "      <td>aefc06bd</td>\n",
       "      <td>0f2161f8</td>\n",
       "      <td>...</td>\n",
       "      <td>1</td>\n",
       "      <td>0</td>\n",
       "      <td>18648</td>\n",
       "      <td>320</td>\n",
       "      <td>50</td>\n",
       "      <td>1092</td>\n",
       "      <td>3</td>\n",
       "      <td>809</td>\n",
       "      <td>100156</td>\n",
       "      <td>61</td>\n",
       "    </tr>\n",
       "    <tr>\n",
       "      <th>4</th>\n",
       "      <td>1.000138e+19</td>\n",
       "      <td>14103100</td>\n",
       "      <td>1005</td>\n",
       "      <td>0</td>\n",
       "      <td>85f751fd</td>\n",
       "      <td>c4e18dd6</td>\n",
       "      <td>50e219e0</td>\n",
       "      <td>9c13b419</td>\n",
       "      <td>2347f47a</td>\n",
       "      <td>f95efa07</td>\n",
       "      <td>...</td>\n",
       "      <td>1</td>\n",
       "      <td>0</td>\n",
       "      <td>23160</td>\n",
       "      <td>320</td>\n",
       "      <td>50</td>\n",
       "      <td>2667</td>\n",
       "      <td>0</td>\n",
       "      <td>47</td>\n",
       "      <td>-1</td>\n",
       "      <td>221</td>\n",
       "    </tr>\n",
       "    <tr>\n",
       "      <th>...</th>\n",
       "      <td>...</td>\n",
       "      <td>...</td>\n",
       "      <td>...</td>\n",
       "      <td>...</td>\n",
       "      <td>...</td>\n",
       "      <td>...</td>\n",
       "      <td>...</td>\n",
       "      <td>...</td>\n",
       "      <td>...</td>\n",
       "      <td>...</td>\n",
       "      <td>...</td>\n",
       "      <td>...</td>\n",
       "      <td>...</td>\n",
       "      <td>...</td>\n",
       "      <td>...</td>\n",
       "      <td>...</td>\n",
       "      <td>...</td>\n",
       "      <td>...</td>\n",
       "      <td>...</td>\n",
       "      <td>...</td>\n",
       "      <td>...</td>\n",
       "    </tr>\n",
       "    <tr>\n",
       "      <th>4577459</th>\n",
       "      <td>9.998167e+18</td>\n",
       "      <td>14103123</td>\n",
       "      <td>1005</td>\n",
       "      <td>0</td>\n",
       "      <td>93eaba74</td>\n",
       "      <td>7687a86e</td>\n",
       "      <td>3e814130</td>\n",
       "      <td>ecad2386</td>\n",
       "      <td>7801e8d9</td>\n",
       "      <td>07d7df22</td>\n",
       "      <td>...</td>\n",
       "      <td>1</td>\n",
       "      <td>0</td>\n",
       "      <td>17654</td>\n",
       "      <td>300</td>\n",
       "      <td>250</td>\n",
       "      <td>1994</td>\n",
       "      <td>2</td>\n",
       "      <td>39</td>\n",
       "      <td>-1</td>\n",
       "      <td>33</td>\n",
       "    </tr>\n",
       "    <tr>\n",
       "      <th>4577460</th>\n",
       "      <td>9.998250e+18</td>\n",
       "      <td>14103123</td>\n",
       "      <td>1005</td>\n",
       "      <td>0</td>\n",
       "      <td>17d1b03f</td>\n",
       "      <td>f3845767</td>\n",
       "      <td>f028772b</td>\n",
       "      <td>ecad2386</td>\n",
       "      <td>7801e8d9</td>\n",
       "      <td>07d7df22</td>\n",
       "      <td>...</td>\n",
       "      <td>1</td>\n",
       "      <td>0</td>\n",
       "      <td>22104</td>\n",
       "      <td>320</td>\n",
       "      <td>50</td>\n",
       "      <td>2545</td>\n",
       "      <td>0</td>\n",
       "      <td>431</td>\n",
       "      <td>100084</td>\n",
       "      <td>221</td>\n",
       "    </tr>\n",
       "    <tr>\n",
       "      <th>4577461</th>\n",
       "      <td>9.998802e+16</td>\n",
       "      <td>14103123</td>\n",
       "      <td>1005</td>\n",
       "      <td>0</td>\n",
       "      <td>5b08c53b</td>\n",
       "      <td>7687a86e</td>\n",
       "      <td>3e814130</td>\n",
       "      <td>ecad2386</td>\n",
       "      <td>7801e8d9</td>\n",
       "      <td>07d7df22</td>\n",
       "      <td>...</td>\n",
       "      <td>1</td>\n",
       "      <td>0</td>\n",
       "      <td>17654</td>\n",
       "      <td>300</td>\n",
       "      <td>250</td>\n",
       "      <td>1994</td>\n",
       "      <td>2</td>\n",
       "      <td>39</td>\n",
       "      <td>-1</td>\n",
       "      <td>33</td>\n",
       "    </tr>\n",
       "    <tr>\n",
       "      <th>4577462</th>\n",
       "      <td>9.999087e+18</td>\n",
       "      <td>14103123</td>\n",
       "      <td>1005</td>\n",
       "      <td>0</td>\n",
       "      <td>85f751fd</td>\n",
       "      <td>c4e18dd6</td>\n",
       "      <td>50e219e0</td>\n",
       "      <td>92f5800b</td>\n",
       "      <td>ae637522</td>\n",
       "      <td>0f2161f8</td>\n",
       "      <td>...</td>\n",
       "      <td>1</td>\n",
       "      <td>3</td>\n",
       "      <td>23857</td>\n",
       "      <td>320</td>\n",
       "      <td>50</td>\n",
       "      <td>2734</td>\n",
       "      <td>1</td>\n",
       "      <td>175</td>\n",
       "      <td>100189</td>\n",
       "      <td>71</td>\n",
       "    </tr>\n",
       "    <tr>\n",
       "      <th>4577463</th>\n",
       "      <td>9.999264e+16</td>\n",
       "      <td>14103123</td>\n",
       "      <td>1005</td>\n",
       "      <td>0</td>\n",
       "      <td>17d1b03f</td>\n",
       "      <td>f3845767</td>\n",
       "      <td>f028772b</td>\n",
       "      <td>ecad2386</td>\n",
       "      <td>7801e8d9</td>\n",
       "      <td>07d7df22</td>\n",
       "      <td>...</td>\n",
       "      <td>1</td>\n",
       "      <td>0</td>\n",
       "      <td>22254</td>\n",
       "      <td>320</td>\n",
       "      <td>50</td>\n",
       "      <td>2545</td>\n",
       "      <td>0</td>\n",
       "      <td>431</td>\n",
       "      <td>100084</td>\n",
       "      <td>221</td>\n",
       "    </tr>\n",
       "  </tbody>\n",
       "</table>\n",
       "<p>4577464 rows × 23 columns</p>\n",
       "</div>"
      ],
      "text/plain": [
       "                   id      hour    C1  banner_pos   site_id site_domain  \\\n",
       "0        1.000017e+19  14103100  1005           0  235ba823    f6ebf28e   \n",
       "1        1.000018e+19  14103100  1005           0  1fbe01fe    f3845767   \n",
       "2        1.000055e+19  14103100  1005           0  1fbe01fe    f3845767   \n",
       "3        1.000109e+19  14103100  1005           0  85f751fd    c4e18dd6   \n",
       "4        1.000138e+19  14103100  1005           0  85f751fd    c4e18dd6   \n",
       "...               ...       ...   ...         ...       ...         ...   \n",
       "4577459  9.998167e+18  14103123  1005           0  93eaba74    7687a86e   \n",
       "4577460  9.998250e+18  14103123  1005           0  17d1b03f    f3845767   \n",
       "4577461  9.998802e+16  14103123  1005           0  5b08c53b    7687a86e   \n",
       "4577462  9.999087e+18  14103123  1005           0  85f751fd    c4e18dd6   \n",
       "4577463  9.999264e+16  14103123  1005           0  17d1b03f    f3845767   \n",
       "\n",
       "        site_category    app_id app_domain app_category  ... device_type  \\\n",
       "0            f028772b  ecad2386   7801e8d9     07d7df22  ...           1   \n",
       "1            28905ebd  ecad2386   7801e8d9     07d7df22  ...           1   \n",
       "2            28905ebd  ecad2386   7801e8d9     07d7df22  ...           1   \n",
       "3            50e219e0  51cedd4e   aefc06bd     0f2161f8  ...           1   \n",
       "4            50e219e0  9c13b419   2347f47a     f95efa07  ...           1   \n",
       "...               ...       ...        ...          ...  ...         ...   \n",
       "4577459      3e814130  ecad2386   7801e8d9     07d7df22  ...           1   \n",
       "4577460      f028772b  ecad2386   7801e8d9     07d7df22  ...           1   \n",
       "4577461      3e814130  ecad2386   7801e8d9     07d7df22  ...           1   \n",
       "4577462      50e219e0  92f5800b   ae637522     0f2161f8  ...           1   \n",
       "4577463      f028772b  ecad2386   7801e8d9     07d7df22  ...           1   \n",
       "\n",
       "        device_conn_type    C14  C15  C16   C17  C18  C19     C20  C21  \n",
       "0                      0   8330  320   50   761    3  175  100075   23  \n",
       "1                      0  22676  320   50  2616    0   35  100083   51  \n",
       "2                      0  22676  320   50  2616    0   35  100083   51  \n",
       "3                      0  18648  320   50  1092    3  809  100156   61  \n",
       "4                      0  23160  320   50  2667    0   47      -1  221  \n",
       "...                  ...    ...  ...  ...   ...  ...  ...     ...  ...  \n",
       "4577459                0  17654  300  250  1994    2   39      -1   33  \n",
       "4577460                0  22104  320   50  2545    0  431  100084  221  \n",
       "4577461                0  17654  300  250  1994    2   39      -1   33  \n",
       "4577462                3  23857  320   50  2734    1  175  100189   71  \n",
       "4577463                0  22254  320   50  2545    0  431  100084  221  \n",
       "\n",
       "[4577464 rows x 23 columns]"
      ]
     },
     "execution_count": 22,
     "metadata": {},
     "output_type": "execute_result"
    }
   ],
   "source": [
    "test= pd.read_csv('test.csv')\n",
    "test"
   ]
  },
  {
   "cell_type": "markdown",
   "metadata": {},
   "source": [
    "# Exploratory Data Analysis"
   ]
  },
  {
   "cell_type": "code",
   "execution_count": 23,
   "metadata": {},
   "outputs": [
    {
     "data": {
      "text/html": [
       "<div>\n",
       "<style scoped>\n",
       "    .dataframe tbody tr th:only-of-type {\n",
       "        vertical-align: middle;\n",
       "    }\n",
       "\n",
       "    .dataframe tbody tr th {\n",
       "        vertical-align: top;\n",
       "    }\n",
       "\n",
       "    .dataframe thead th {\n",
       "        text-align: right;\n",
       "    }\n",
       "</style>\n",
       "<table border=\"1\" class=\"dataframe\">\n",
       "  <thead>\n",
       "    <tr style=\"text-align: right;\">\n",
       "      <th></th>\n",
       "      <th>id</th>\n",
       "      <th>click</th>\n",
       "      <th>hour</th>\n",
       "      <th>C1</th>\n",
       "      <th>banner_pos</th>\n",
       "      <th>device_type</th>\n",
       "      <th>device_conn_type</th>\n",
       "      <th>C14</th>\n",
       "      <th>C15</th>\n",
       "      <th>C16</th>\n",
       "      <th>C17</th>\n",
       "      <th>C18</th>\n",
       "      <th>C19</th>\n",
       "      <th>C20</th>\n",
       "      <th>C21</th>\n",
       "    </tr>\n",
       "  </thead>\n",
       "  <tbody>\n",
       "    <tr>\n",
       "      <th>count</th>\n",
       "      <td>1.000001e+06</td>\n",
       "      <td>1.000001e+06</td>\n",
       "      <td>1.000001e+06</td>\n",
       "      <td>1.000001e+06</td>\n",
       "      <td>1.000001e+06</td>\n",
       "      <td>1.000001e+06</td>\n",
       "      <td>1.000001e+06</td>\n",
       "      <td>1.000001e+06</td>\n",
       "      <td>1.000001e+06</td>\n",
       "      <td>1.000001e+06</td>\n",
       "      <td>1.000001e+06</td>\n",
       "      <td>1.000001e+06</td>\n",
       "      <td>1.000001e+06</td>\n",
       "      <td>1.000001e+06</td>\n",
       "      <td>1.000001e+06</td>\n",
       "    </tr>\n",
       "    <tr>\n",
       "      <th>mean</th>\n",
       "      <td>9.220798e+18</td>\n",
       "      <td>1.695918e-01</td>\n",
       "      <td>1.410256e+07</td>\n",
       "      <td>1.004969e+03</td>\n",
       "      <td>2.881977e-01</td>\n",
       "      <td>1.015731e+00</td>\n",
       "      <td>3.306207e-01</td>\n",
       "      <td>1.884270e+04</td>\n",
       "      <td>3.188632e+02</td>\n",
       "      <td>6.020658e+01</td>\n",
       "      <td>2.112803e+03</td>\n",
       "      <td>1.433226e+00</td>\n",
       "      <td>2.270182e+02</td>\n",
       "      <td>5.321945e+04</td>\n",
       "      <td>8.349937e+01</td>\n",
       "    </tr>\n",
       "    <tr>\n",
       "      <th>std</th>\n",
       "      <td>5.323436e+18</td>\n",
       "      <td>3.752740e-01</td>\n",
       "      <td>2.968688e+02</td>\n",
       "      <td>1.092588e+00</td>\n",
       "      <td>5.069359e-01</td>\n",
       "      <td>5.264784e-01</td>\n",
       "      <td>8.533937e-01</td>\n",
       "      <td>4.960862e+03</td>\n",
       "      <td>2.117370e+01</td>\n",
       "      <td>4.765363e+01</td>\n",
       "      <td>6.095448e+02</td>\n",
       "      <td>1.325933e+00</td>\n",
       "      <td>3.511550e+02</td>\n",
       "      <td>4.995668e+04</td>\n",
       "      <td>7.035966e+01</td>\n",
       "    </tr>\n",
       "    <tr>\n",
       "      <th>min</th>\n",
       "      <td>1.441823e+13</td>\n",
       "      <td>0.000000e+00</td>\n",
       "      <td>1.410210e+07</td>\n",
       "      <td>1.001000e+03</td>\n",
       "      <td>0.000000e+00</td>\n",
       "      <td>0.000000e+00</td>\n",
       "      <td>0.000000e+00</td>\n",
       "      <td>3.750000e+02</td>\n",
       "      <td>1.200000e+02</td>\n",
       "      <td>2.000000e+01</td>\n",
       "      <td>1.120000e+02</td>\n",
       "      <td>0.000000e+00</td>\n",
       "      <td>3.300000e+01</td>\n",
       "      <td>-1.000000e+00</td>\n",
       "      <td>1.000000e+00</td>\n",
       "    </tr>\n",
       "    <tr>\n",
       "      <th>25%</th>\n",
       "      <td>4.608762e+18</td>\n",
       "      <td>0.000000e+00</td>\n",
       "      <td>1.410230e+07</td>\n",
       "      <td>1.005000e+03</td>\n",
       "      <td>0.000000e+00</td>\n",
       "      <td>1.000000e+00</td>\n",
       "      <td>0.000000e+00</td>\n",
       "      <td>1.692000e+04</td>\n",
       "      <td>3.200000e+02</td>\n",
       "      <td>5.000000e+01</td>\n",
       "      <td>1.863000e+03</td>\n",
       "      <td>0.000000e+00</td>\n",
       "      <td>3.500000e+01</td>\n",
       "      <td>-1.000000e+00</td>\n",
       "      <td>2.300000e+01</td>\n",
       "    </tr>\n",
       "    <tr>\n",
       "      <th>50%</th>\n",
       "      <td>9.221913e+18</td>\n",
       "      <td>0.000000e+00</td>\n",
       "      <td>1.410260e+07</td>\n",
       "      <td>1.005000e+03</td>\n",
       "      <td>0.000000e+00</td>\n",
       "      <td>1.000000e+00</td>\n",
       "      <td>0.000000e+00</td>\n",
       "      <td>2.034600e+04</td>\n",
       "      <td>3.200000e+02</td>\n",
       "      <td>5.000000e+01</td>\n",
       "      <td>2.323000e+03</td>\n",
       "      <td>2.000000e+00</td>\n",
       "      <td>3.900000e+01</td>\n",
       "      <td>1.000480e+05</td>\n",
       "      <td>6.100000e+01</td>\n",
       "    </tr>\n",
       "    <tr>\n",
       "      <th>75%</th>\n",
       "      <td>1.382972e+19</td>\n",
       "      <td>0.000000e+00</td>\n",
       "      <td>1.410281e+07</td>\n",
       "      <td>1.005000e+03</td>\n",
       "      <td>1.000000e+00</td>\n",
       "      <td>1.000000e+00</td>\n",
       "      <td>0.000000e+00</td>\n",
       "      <td>2.189400e+04</td>\n",
       "      <td>3.200000e+02</td>\n",
       "      <td>5.000000e+01</td>\n",
       "      <td>2.526000e+03</td>\n",
       "      <td>3.000000e+00</td>\n",
       "      <td>1.710000e+02</td>\n",
       "      <td>1.000880e+05</td>\n",
       "      <td>1.020000e+02</td>\n",
       "    </tr>\n",
       "    <tr>\n",
       "      <th>max</th>\n",
       "      <td>1.844673e+19</td>\n",
       "      <td>1.000000e+00</td>\n",
       "      <td>1.410302e+07</td>\n",
       "      <td>1.012000e+03</td>\n",
       "      <td>7.000000e+00</td>\n",
       "      <td>5.000000e+00</td>\n",
       "      <td>5.000000e+00</td>\n",
       "      <td>2.404900e+04</td>\n",
       "      <td>1.024000e+03</td>\n",
       "      <td>1.024000e+03</td>\n",
       "      <td>2.758000e+03</td>\n",
       "      <td>3.000000e+00</td>\n",
       "      <td>1.839000e+03</td>\n",
       "      <td>1.002480e+05</td>\n",
       "      <td>2.550000e+02</td>\n",
       "    </tr>\n",
       "  </tbody>\n",
       "</table>\n",
       "</div>"
      ],
      "text/plain": [
       "                 id         click          hour            C1    banner_pos  \\\n",
       "count  1.000001e+06  1.000001e+06  1.000001e+06  1.000001e+06  1.000001e+06   \n",
       "mean   9.220798e+18  1.695918e-01  1.410256e+07  1.004969e+03  2.881977e-01   \n",
       "std    5.323436e+18  3.752740e-01  2.968688e+02  1.092588e+00  5.069359e-01   \n",
       "min    1.441823e+13  0.000000e+00  1.410210e+07  1.001000e+03  0.000000e+00   \n",
       "25%    4.608762e+18  0.000000e+00  1.410230e+07  1.005000e+03  0.000000e+00   \n",
       "50%    9.221913e+18  0.000000e+00  1.410260e+07  1.005000e+03  0.000000e+00   \n",
       "75%    1.382972e+19  0.000000e+00  1.410281e+07  1.005000e+03  1.000000e+00   \n",
       "max    1.844673e+19  1.000000e+00  1.410302e+07  1.012000e+03  7.000000e+00   \n",
       "\n",
       "        device_type  device_conn_type           C14           C15  \\\n",
       "count  1.000001e+06      1.000001e+06  1.000001e+06  1.000001e+06   \n",
       "mean   1.015731e+00      3.306207e-01  1.884270e+04  3.188632e+02   \n",
       "std    5.264784e-01      8.533937e-01  4.960862e+03  2.117370e+01   \n",
       "min    0.000000e+00      0.000000e+00  3.750000e+02  1.200000e+02   \n",
       "25%    1.000000e+00      0.000000e+00  1.692000e+04  3.200000e+02   \n",
       "50%    1.000000e+00      0.000000e+00  2.034600e+04  3.200000e+02   \n",
       "75%    1.000000e+00      0.000000e+00  2.189400e+04  3.200000e+02   \n",
       "max    5.000000e+00      5.000000e+00  2.404900e+04  1.024000e+03   \n",
       "\n",
       "                C16           C17           C18           C19           C20  \\\n",
       "count  1.000001e+06  1.000001e+06  1.000001e+06  1.000001e+06  1.000001e+06   \n",
       "mean   6.020658e+01  2.112803e+03  1.433226e+00  2.270182e+02  5.321945e+04   \n",
       "std    4.765363e+01  6.095448e+02  1.325933e+00  3.511550e+02  4.995668e+04   \n",
       "min    2.000000e+01  1.120000e+02  0.000000e+00  3.300000e+01 -1.000000e+00   \n",
       "25%    5.000000e+01  1.863000e+03  0.000000e+00  3.500000e+01 -1.000000e+00   \n",
       "50%    5.000000e+01  2.323000e+03  2.000000e+00  3.900000e+01  1.000480e+05   \n",
       "75%    5.000000e+01  2.526000e+03  3.000000e+00  1.710000e+02  1.000880e+05   \n",
       "max    1.024000e+03  2.758000e+03  3.000000e+00  1.839000e+03  1.002480e+05   \n",
       "\n",
       "                C21  \n",
       "count  1.000001e+06  \n",
       "mean   8.349937e+01  \n",
       "std    7.035966e+01  \n",
       "min    1.000000e+00  \n",
       "25%    2.300000e+01  \n",
       "50%    6.100000e+01  \n",
       "75%    1.020000e+02  \n",
       "max    2.550000e+02  "
      ]
     },
     "execution_count": 23,
     "metadata": {},
     "output_type": "execute_result"
    }
   ],
   "source": [
    "train.describe()"
   ]
  },
  {
   "cell_type": "code",
   "execution_count": 24,
   "metadata": {},
   "outputs": [
    {
     "name": "stdout",
     "output_type": "stream",
     "text": [
      "<class 'pandas.core.frame.DataFrame'>\n",
      "RangeIndex: 1000001 entries, 0 to 1000000\n",
      "Data columns (total 24 columns):\n",
      " #   Column            Non-Null Count    Dtype \n",
      "---  ------            --------------    ----- \n",
      " 0   id                1000001 non-null  uint64\n",
      " 1   click             1000001 non-null  int64 \n",
      " 2   hour              1000001 non-null  int64 \n",
      " 3   C1                1000001 non-null  int64 \n",
      " 4   banner_pos        1000001 non-null  int64 \n",
      " 5   site_id           1000001 non-null  object\n",
      " 6   site_domain       1000001 non-null  object\n",
      " 7   site_category     1000001 non-null  object\n",
      " 8   app_id            1000001 non-null  object\n",
      " 9   app_domain        1000001 non-null  object\n",
      " 10  app_category      1000001 non-null  object\n",
      " 11  device_id         1000001 non-null  object\n",
      " 12  device_ip         1000001 non-null  object\n",
      " 13  device_model      1000001 non-null  object\n",
      " 14  device_type       1000001 non-null  int64 \n",
      " 15  device_conn_type  1000001 non-null  int64 \n",
      " 16  C14               1000001 non-null  int64 \n",
      " 17  C15               1000001 non-null  int64 \n",
      " 18  C16               1000001 non-null  int64 \n",
      " 19  C17               1000001 non-null  int64 \n",
      " 20  C18               1000001 non-null  int64 \n",
      " 21  C19               1000001 non-null  int64 \n",
      " 22  C20               1000001 non-null  int64 \n",
      " 23  C21               1000001 non-null  int64 \n",
      "dtypes: int64(14), object(9), uint64(1)\n",
      "memory usage: 183.1+ MB\n"
     ]
    }
   ],
   "source": [
    "train.info()"
   ]
  },
  {
   "cell_type": "code",
   "execution_count": 25,
   "metadata": {},
   "outputs": [
    {
     "name": "stdout",
     "output_type": "stream",
     "text": [
      "Train columns with null values:\n",
      " id                  0\n",
      "click               0\n",
      "hour                0\n",
      "C1                  0\n",
      "banner_pos          0\n",
      "site_id             0\n",
      "site_domain         0\n",
      "site_category       0\n",
      "app_id              0\n",
      "app_domain          0\n",
      "app_category        0\n",
      "device_id           0\n",
      "device_ip           0\n",
      "device_model        0\n",
      "device_type         0\n",
      "device_conn_type    0\n",
      "C14                 0\n",
      "C15                 0\n",
      "C16                 0\n",
      "C17                 0\n",
      "C18                 0\n",
      "C19                 0\n",
      "C20                 0\n",
      "C21                 0\n",
      "dtype: int64\n"
     ]
    }
   ],
   "source": [
    "print('Train columns with null values:\\n', train.isnull().sum())"
   ]
  },
  {
   "cell_type": "code",
   "execution_count": 29,
   "metadata": {},
   "outputs": [
    {
     "data": {
      "text/plain": [
       "id                  1000001\n",
       "click                     2\n",
       "hour                    240\n",
       "C1                        7\n",
       "banner_pos                7\n",
       "site_id                2626\n",
       "site_domain            2883\n",
       "site_category            20\n",
       "app_id                 3113\n",
       "app_domain              205\n",
       "app_category             27\n",
       "device_id            150070\n",
       "device_ip            555166\n",
       "device_model           5186\n",
       "device_type               5\n",
       "device_conn_type          4\n",
       "C14                    2254\n",
       "C15                       8\n",
       "C16                       9\n",
       "C17                     424\n",
       "C18                       4\n",
       "C19                      66\n",
       "C20                     165\n",
       "C21                      60\n",
       "dtype: int64"
      ]
     },
     "execution_count": 29,
     "metadata": {},
     "output_type": "execute_result"
    }
   ],
   "source": [
    "train.nunique()"
   ]
  },
  {
   "cell_type": "code",
   "execution_count": 26,
   "metadata": {},
   "outputs": [
    {
     "name": "stdout",
     "output_type": "stream",
     "text": [
      "Imbalance ratio: 4.896510448606066\n"
     ]
    }
   ],
   "source": [
    "print(\"Imbalance ratio: {}\".format(float(len(train[train['click']==0]))/len(train[train['click']==1])))"
   ]
  },
  {
   "cell_type": "markdown",
   "metadata": {},
   "source": [
    "###  The ads that were not clicked representing the majority of data instances. (Imblance Data)"
   ]
  },
  {
   "cell_type": "code",
   "execution_count": 27,
   "metadata": {},
   "outputs": [
    {
     "data": {
      "text/plain": [
       "count    1.000001e+06\n",
       "mean     1.695918e-01\n",
       "std      3.752740e-01\n",
       "min      0.000000e+00\n",
       "25%      0.000000e+00\n",
       "50%      0.000000e+00\n",
       "75%      0.000000e+00\n",
       "max      1.000000e+00\n",
       "Name: click, dtype: float64"
      ]
     },
     "execution_count": 27,
     "metadata": {},
     "output_type": "execute_result"
    }
   ],
   "source": [
    "train[\"click\"].describe()"
   ]
  },
  {
   "cell_type": "code",
   "execution_count": 28,
   "metadata": {},
   "outputs": [
    {
     "data": {
      "text/plain": [
       "0    0.830408\n",
       "1    0.169592\n",
       "Name: click, dtype: float64"
      ]
     },
     "execution_count": 28,
     "metadata": {},
     "output_type": "execute_result"
    },
    {
     "data": {
      "image/png": "[encoded data removed]",
      "text/plain": [
       "<Figure size 432x288 with 1 Axes>"
      ]
     },
     "metadata": {
      "needs_background": "light"
     },
     "output_type": "display_data"
    }
   ],
   "source": [
    "%matplotlib inline\n",
    "\n",
    "train.groupby('click').size().plot(kind = 'bar')\n",
    "rows = train.shape[0]\n",
    "\n",
    "click_through_rate = train['click'].value_counts()/rows \n",
    "\n",
    "click_through_rate"
   ]
  },
  {
   "cell_type": "markdown",
   "metadata": {},
   "source": [
    "### CTR effectively = 16.9%"
   ]
  },
  {
   "cell_type": "code",
   "execution_count": 30,
   "metadata": {},
   "outputs": [],
   "source": [
    "#NEW METRICS\n",
    "# datetime column\n",
    "train['hour']=train['hour'].map(lambda x: datetime.strptime(str(x),\"%y%m%d%H\"))\n",
    "\n",
    "train['day_of_week']=train['hour'].map(lambda x:  x.weekday())\n",
    "\n",
    "train['hour']=train['hour'].map(lambda x:  x.hour)"
   ]
  },
  {
   "cell_type": "code",
   "execution_count": 31,
   "metadata": {},
   "outputs": [
    {
     "data": {
      "text/plain": [
       "id                  1000001\n",
       "click                     2\n",
       "hour                     24\n",
       "C1                        7\n",
       "banner_pos                7\n",
       "site_id                2626\n",
       "site_domain            2883\n",
       "site_category            20\n",
       "app_id                 3113\n",
       "app_domain              205\n",
       "app_category             27\n",
       "device_id            150070\n",
       "device_ip            555166\n",
       "device_model           5186\n",
       "device_type               5\n",
       "device_conn_type          4\n",
       "C14                    2254\n",
       "C15                       8\n",
       "C16                       9\n",
       "C17                     424\n",
       "C18                       4\n",
       "C19                      66\n",
       "C20                     165\n",
       "C21                      60\n",
       "day_of_week               7\n",
       "dtype: int64"
      ]
     },
     "execution_count": 31,
     "metadata": {},
     "output_type": "execute_result"
    }
   ],
   "source": [
    "train.nunique()"
   ]
  },
  {
   "cell_type": "code",
   "execution_count": 32,
   "metadata": {},
   "outputs": [
    {
     "data": {
      "text/plain": [
       "count    1.000001e+06\n",
       "mean     1.128556e+01\n",
       "std      5.950409e+00\n",
       "min      0.000000e+00\n",
       "25%      7.000000e+00\n",
       "50%      1.100000e+01\n",
       "75%      1.600000e+01\n",
       "max      2.300000e+01\n",
       "Name: hour, dtype: float64"
      ]
     },
     "execution_count": 32,
     "metadata": {},
     "output_type": "execute_result"
    }
   ],
   "source": [
    "train.hour.describe()"
   ]
  },
  {
   "cell_type": "markdown",
   "metadata": {},
   "source": [
    "# Banner Position"
   ]
  },
  {
   "cell_type": "code",
   "execution_count": 36,
   "metadata": {},
   "outputs": [
    {
     "data": {
      "text/plain": [
       "array([1, 0, 2, 7, 5, 4, 3], dtype=int64)"
      ]
     },
     "execution_count": 36,
     "metadata": {},
     "output_type": "execute_result"
    }
   ],
   "source": [
    "train['banner_pos'].unique()"
   ]
  },
  {
   "cell_type": "code",
   "execution_count": 37,
   "metadata": {},
   "outputs": [
    {
     "data": {
      "text/plain": [
       "<matplotlib.axes._subplots.AxesSubplot at 0x2223b25f888>"
      ]
     },
     "execution_count": 37,
     "metadata": {},
     "output_type": "execute_result"
    },
    {
     "data": {
      "image/png": "[encoded data removed]",
      "text/plain": [
       "<Figure size 432x288 with 1 Axes>"
      ]
     },
     "metadata": {
      "needs_background": "light"
     },
     "output_type": "display_data"
    }
   ],
   "source": [
    "banner_temp =train[['banner_pos','click']].groupby(['banner_pos','click'])\n",
    "banner_temp.size().unstack().plot(kind='bar',stacked=True, title='banner positions')"
   ]
  },
  {
   "cell_type": "markdown",
   "metadata": {},
   "source": [
    "### Positions 0 and 1 ~ the most prominent banner positions  and generating most impressions"
   ]
  },
  {
   "cell_type": "code",
   "execution_count": 40,
   "metadata": {},
   "outputs": [
    {
     "data": {
      "text/html": [
       "<div>\n",
       "<style scoped>\n",
       "    .dataframe tbody tr th:only-of-type {\n",
       "        vertical-align: middle;\n",
       "    }\n",
       "\n",
       "    .dataframe tbody tr th {\n",
       "        vertical-align: top;\n",
       "    }\n",
       "\n",
       "    .dataframe thead th {\n",
       "        text-align: right;\n",
       "    }\n",
       "</style>\n",
       "<table border=\"1\" class=\"dataframe\">\n",
       "  <thead>\n",
       "    <tr style=\"text-align: right;\">\n",
       "      <th></th>\n",
       "      <th>click</th>\n",
       "    </tr>\n",
       "    <tr>\n",
       "      <th>banner_pos</th>\n",
       "      <th></th>\n",
       "    </tr>\n",
       "  </thead>\n",
       "  <tbody>\n",
       "    <tr>\n",
       "      <th>0</th>\n",
       "      <td>117999</td>\n",
       "    </tr>\n",
       "    <tr>\n",
       "      <th>1</th>\n",
       "      <td>51163</td>\n",
       "    </tr>\n",
       "    <tr>\n",
       "      <th>7</th>\n",
       "      <td>330</td>\n",
       "    </tr>\n",
       "    <tr>\n",
       "      <th>4</th>\n",
       "      <td>39</td>\n",
       "    </tr>\n",
       "    <tr>\n",
       "      <th>2</th>\n",
       "      <td>34</td>\n",
       "    </tr>\n",
       "    <tr>\n",
       "      <th>5</th>\n",
       "      <td>16</td>\n",
       "    </tr>\n",
       "    <tr>\n",
       "      <th>3</th>\n",
       "      <td>11</td>\n",
       "    </tr>\n",
       "  </tbody>\n",
       "</table>\n",
       "</div>"
      ],
      "text/plain": [
       "             click\n",
       "banner_pos        \n",
       "0           117999\n",
       "1            51163\n",
       "7              330\n",
       "4               39\n",
       "2               34\n",
       "5               16\n",
       "3               11"
      ]
     },
     "execution_count": 40,
     "metadata": {},
     "output_type": "execute_result"
    }
   ],
   "source": [
    "train_clicks = train[train['click']==1]\n",
    "train_clicks[['banner_pos','click']].groupby(['banner_pos']).count().sort_values('click',ascending=False)"
   ]
  },
  {
   "cell_type": "code",
   "execution_count": 41,
   "metadata": {},
   "outputs": [
    {
     "data": {
      "text/html": [
       "<div>\n",
       "<style scoped>\n",
       "    .dataframe tbody tr th:only-of-type {\n",
       "        vertical-align: middle;\n",
       "    }\n",
       "\n",
       "    .dataframe tbody tr th {\n",
       "        vertical-align: top;\n",
       "    }\n",
       "\n",
       "    .dataframe thead th {\n",
       "        text-align: right;\n",
       "    }\n",
       "</style>\n",
       "<table border=\"1\" class=\"dataframe\">\n",
       "  <thead>\n",
       "    <tr style=\"text-align: right;\">\n",
       "      <th></th>\n",
       "      <th>position</th>\n",
       "      <th>pos_clicks</th>\n",
       "      <th>total_impressions</th>\n",
       "      <th>click_pct</th>\n",
       "    </tr>\n",
       "  </thead>\n",
       "  <tbody>\n",
       "    <tr>\n",
       "      <th>6</th>\n",
       "      <td>7</td>\n",
       "      <td>330</td>\n",
       "      <td>1090</td>\n",
       "      <td>30.275229</td>\n",
       "    </tr>\n",
       "    <tr>\n",
       "      <th>4</th>\n",
       "      <td>4</td>\n",
       "      <td>39</td>\n",
       "      <td>188</td>\n",
       "      <td>20.744681</td>\n",
       "    </tr>\n",
       "    <tr>\n",
       "      <th>3</th>\n",
       "      <td>3</td>\n",
       "      <td>11</td>\n",
       "      <td>58</td>\n",
       "      <td>18.965517</td>\n",
       "    </tr>\n",
       "    <tr>\n",
       "      <th>1</th>\n",
       "      <td>1</td>\n",
       "      <td>51163</td>\n",
       "      <td>278267</td>\n",
       "      <td>18.386298</td>\n",
       "    </tr>\n",
       "    <tr>\n",
       "      <th>0</th>\n",
       "      <td>0</td>\n",
       "      <td>117999</td>\n",
       "      <td>719919</td>\n",
       "      <td>16.390594</td>\n",
       "    </tr>\n",
       "    <tr>\n",
       "      <th>5</th>\n",
       "      <td>5</td>\n",
       "      <td>16</td>\n",
       "      <td>139</td>\n",
       "      <td>11.510791</td>\n",
       "    </tr>\n",
       "    <tr>\n",
       "      <th>2</th>\n",
       "      <td>2</td>\n",
       "      <td>34</td>\n",
       "      <td>340</td>\n",
       "      <td>10.000000</td>\n",
       "    </tr>\n",
       "  </tbody>\n",
       "</table>\n",
       "</div>"
      ],
      "text/plain": [
       "   position  pos_clicks  total_impressions  click_pct\n",
       "6         7         330               1090  30.275229\n",
       "4         4          39                188  20.744681\n",
       "3         3          11                 58  18.965517\n",
       "1         1       51163             278267  18.386298\n",
       "0         0      117999             719919  16.390594\n",
       "5         5          16                139  11.510791\n",
       "2         2          34                340  10.000000"
      ]
     },
     "execution_count": 41,
     "metadata": {},
     "output_type": "execute_result"
    }
   ],
   "source": [
    "banner_df = pd.DataFrame()\n",
    "banner_df['position'] = train_clicks[['banner_pos','click']].groupby(['banner_pos']).count().reset_index().sort_values('click',ascending=False)['banner_pos']\n",
    "banner_df['pos_clicks'] = train_clicks[['banner_pos','click']].groupby(['banner_pos']).count().reset_index().sort_values('click',ascending=False)['click']\n",
    "banner_df['total_impressions'] = train[['banner_pos','click']].groupby(['banner_pos']).count().reset_index().sort_values('click',ascending=False)['click']\n",
    "banner_df['click_pct'] = 100*banner_df['pos_clicks']/banner_df['total_impressions']\n",
    "banner_df.sort_values(ascending=False,by='click_pct')\n"
   ]
  },
  {
   "cell_type": "code",
   "execution_count": 42,
   "metadata": {},
   "outputs": [
    {
     "data": {
      "text/plain": [
       "<matplotlib.axes._subplots.AxesSubplot at 0x2223b315d48>"
      ]
     },
     "execution_count": 42,
     "metadata": {},
     "output_type": "execute_result"
    },
    {
     "data": {
      "image/png": "[encoded data removed]",
      "text/plain": [
       "<Figure size 432x288 with 1 Axes>"
      ]
     },
     "metadata": {
      "needs_background": "light"
     },
     "output_type": "display_data"
    }
   ],
   "source": [
    "list_of_banners = banner_df.sort_values(by='click_pct',ascending=False)['position'].tolist()\n",
    "sns.barplot(y='click_pct',x='position',data=banner_df,order=list_of_banners)"
   ]
  },
  {
   "cell_type": "markdown",
   "metadata": {},
   "source": [
    "#### Banner position 7 seems to be a nice choice for placing advertisements. As per click through rate."
   ]
  },
  {
   "cell_type": "markdown",
   "metadata": {},
   "source": [
    "### Analyzing the feature device_type"
   ]
  },
  {
   "cell_type": "code",
   "execution_count": 43,
   "metadata": {},
   "outputs": [
    {
     "data": {
      "text/plain": [
       "1    923333\n",
       "0     54366\n",
       "4     19108\n",
       "5      3193\n",
       "2         1\n",
       "Name: device_type, dtype: int64"
      ]
     },
     "execution_count": 43,
     "metadata": {},
     "output_type": "execute_result"
    }
   ],
   "source": [
    "train[\"device_type\"].value_counts()"
   ]
  },
  {
   "cell_type": "code",
   "execution_count": 46,
   "metadata": {},
   "outputs": [
    {
     "data": {
      "text/plain": [
       "<matplotlib.axes._subplots.AxesSubplot at 0x2223b6ea2c8>"
      ]
     },
     "execution_count": 46,
     "metadata": {},
     "output_type": "execute_result"
    },
    {
     "data": {
      "image/png": "[encoded data removed]",
      "text/plain": [
       "<Figure size 432x288 with 1 Axes>"
      ]
     },
     "metadata": {
      "needs_background": "light"
     },
     "output_type": "display_data"
    }
   ],
   "source": [
    "train_clicks[['device_type','click']].groupby(['device_type','click']).size().unstack().plot(kind='bar',stacked=True, title='device types')"
   ]
  },
  {
   "cell_type": "code",
   "execution_count": 45,
   "metadata": {},
   "outputs": [
    {
     "data": {
      "text/html": [
       "<div>\n",
       "<style scoped>\n",
       "    .dataframe tbody tr th:only-of-type {\n",
       "        vertical-align: middle;\n",
       "    }\n",
       "\n",
       "    .dataframe tbody tr th {\n",
       "        vertical-align: top;\n",
       "    }\n",
       "\n",
       "    .dataframe thead th {\n",
       "        text-align: right;\n",
       "    }\n",
       "</style>\n",
       "<table border=\"1\" class=\"dataframe\">\n",
       "  <thead>\n",
       "    <tr style=\"text-align: right;\">\n",
       "      <th></th>\n",
       "      <th>click</th>\n",
       "    </tr>\n",
       "    <tr>\n",
       "      <th>device_type</th>\n",
       "      <th></th>\n",
       "    </tr>\n",
       "  </thead>\n",
       "  <tbody>\n",
       "    <tr>\n",
       "      <th>1</th>\n",
       "      <td>156026</td>\n",
       "    </tr>\n",
       "    <tr>\n",
       "      <th>0</th>\n",
       "      <td>11464</td>\n",
       "    </tr>\n",
       "    <tr>\n",
       "      <th>4</th>\n",
       "      <td>1801</td>\n",
       "    </tr>\n",
       "    <tr>\n",
       "      <th>5</th>\n",
       "      <td>301</td>\n",
       "    </tr>\n",
       "  </tbody>\n",
       "</table>\n",
       "</div>"
      ],
      "text/plain": [
       "              click\n",
       "device_type        \n",
       "1            156026\n",
       "0             11464\n",
       "4              1801\n",
       "5               301"
      ]
     },
     "execution_count": 45,
     "metadata": {},
     "output_type": "execute_result"
    }
   ],
   "source": [
    "train_clicks[['device_type','click']].groupby(['device_type']).count().sort_values('click',ascending=False)"
   ]
  },
  {
   "cell_type": "markdown",
   "metadata": {},
   "source": [
    "### Device Type 1 gets the maximum number of impressions and clicks "
   ]
  },
  {
   "cell_type": "code",
   "execution_count": 47,
   "metadata": {},
   "outputs": [
    {
     "data": {
      "text/html": [
       "<div>\n",
       "<style scoped>\n",
       "    .dataframe tbody tr th:only-of-type {\n",
       "        vertical-align: middle;\n",
       "    }\n",
       "\n",
       "    .dataframe tbody tr th {\n",
       "        vertical-align: top;\n",
       "    }\n",
       "\n",
       "    .dataframe thead th {\n",
       "        text-align: right;\n",
       "    }\n",
       "</style>\n",
       "<table border=\"1\" class=\"dataframe\">\n",
       "  <thead>\n",
       "    <tr style=\"text-align: right;\">\n",
       "      <th></th>\n",
       "      <th>click</th>\n",
       "      <th>total_impressions</th>\n",
       "      <th>click_pct</th>\n",
       "    </tr>\n",
       "    <tr>\n",
       "      <th>device_type</th>\n",
       "      <th></th>\n",
       "      <th></th>\n",
       "      <th></th>\n",
       "    </tr>\n",
       "  </thead>\n",
       "  <tbody>\n",
       "    <tr>\n",
       "      <th>0</th>\n",
       "      <td>11464</td>\n",
       "      <td>54366</td>\n",
       "      <td>21.086709</td>\n",
       "    </tr>\n",
       "    <tr>\n",
       "      <th>1</th>\n",
       "      <td>156026</td>\n",
       "      <td>923333</td>\n",
       "      <td>16.898129</td>\n",
       "    </tr>\n",
       "    <tr>\n",
       "      <th>4</th>\n",
       "      <td>1801</td>\n",
       "      <td>19108</td>\n",
       "      <td>9.425372</td>\n",
       "    </tr>\n",
       "    <tr>\n",
       "      <th>5</th>\n",
       "      <td>301</td>\n",
       "      <td>3193</td>\n",
       "      <td>9.426871</td>\n",
       "    </tr>\n",
       "  </tbody>\n",
       "</table>\n",
       "</div>"
      ],
      "text/plain": [
       "              click  total_impressions  click_pct\n",
       "device_type                                      \n",
       "0             11464              54366  21.086709\n",
       "1            156026             923333  16.898129\n",
       "4              1801              19108   9.425372\n",
       "5               301               3193   9.426871"
      ]
     },
     "execution_count": 47,
     "metadata": {},
     "output_type": "execute_result"
    }
   ],
   "source": [
    "dev_type_df_total_imp = train.groupby('device_type').agg({'click':'count'})\n",
    "dev_type_df = train_clicks.groupby('device_type').agg({'click':'count'})\n",
    "dev_type_df['total_impressions'] = dev_type_df_total_imp['click']\n",
    "dev_type_df['click_pct'] = (dev_type_df['click']/dev_type_df['total_impressions'])*100\n",
    "dev_type_df"
   ]
  },
  {
   "cell_type": "markdown",
   "metadata": {},
   "source": [
    "### Device Type 0 with the highest click through rate"
   ]
  },
  {
   "cell_type": "markdown",
   "metadata": {},
   "source": [
    "# Device Connection"
   ]
  },
  {
   "cell_type": "code",
   "execution_count": 49,
   "metadata": {},
   "outputs": [
    {
     "data": {
      "text/plain": [
       "<matplotlib.axes._subplots.AxesSubplot at 0x2223b6a20c8>"
      ]
     },
     "execution_count": 49,
     "metadata": {},
     "output_type": "execute_result"
    },
    {
     "data": {
      "image/png": "[encoded data removed]",
      "text/plain": [
       "<Figure size 432x288 with 1 Axes>"
      ]
     },
     "metadata": {
      "needs_background": "light"
     },
     "output_type": "display_data"
    }
   ],
   "source": [
    "device_conn_temp = train[['device_conn_type','click']].groupby(['device_conn_type','click'])\n",
    "device_conn_temp.size().unstack().plot(kind='bar',stacked=True, title='device connection types')"
   ]
  },
  {
   "cell_type": "code",
   "execution_count": 50,
   "metadata": {},
   "outputs": [
    {
     "data": {
      "text/html": [
       "<div>\n",
       "<style scoped>\n",
       "    .dataframe tbody tr th:only-of-type {\n",
       "        vertical-align: middle;\n",
       "    }\n",
       "\n",
       "    .dataframe tbody tr th {\n",
       "        vertical-align: top;\n",
       "    }\n",
       "\n",
       "    .dataframe thead th {\n",
       "        text-align: right;\n",
       "    }\n",
       "</style>\n",
       "<table border=\"1\" class=\"dataframe\">\n",
       "  <thead>\n",
       "    <tr style=\"text-align: right;\">\n",
       "      <th></th>\n",
       "      <th>click</th>\n",
       "      <th>total_impressions</th>\n",
       "      <th>click_pct</th>\n",
       "    </tr>\n",
       "    <tr>\n",
       "      <th>device_conn_type</th>\n",
       "      <th></th>\n",
       "      <th></th>\n",
       "      <th></th>\n",
       "    </tr>\n",
       "  </thead>\n",
       "  <tbody>\n",
       "    <tr>\n",
       "      <th>0</th>\n",
       "      <td>156008</td>\n",
       "      <td>863089</td>\n",
       "      <td>18.075540</td>\n",
       "    </tr>\n",
       "    <tr>\n",
       "      <th>2</th>\n",
       "      <td>11179</td>\n",
       "      <td>82101</td>\n",
       "      <td>13.616156</td>\n",
       "    </tr>\n",
       "    <tr>\n",
       "      <th>3</th>\n",
       "      <td>2371</td>\n",
       "      <td>53818</td>\n",
       "      <td>4.405589</td>\n",
       "    </tr>\n",
       "    <tr>\n",
       "      <th>5</th>\n",
       "      <td>34</td>\n",
       "      <td>993</td>\n",
       "      <td>3.423968</td>\n",
       "    </tr>\n",
       "  </tbody>\n",
       "</table>\n",
       "</div>"
      ],
      "text/plain": [
       "                   click  total_impressions  click_pct\n",
       "device_conn_type                                      \n",
       "0                 156008             863089  18.075540\n",
       "2                  11179              82101  13.616156\n",
       "3                   2371              53818   4.405589\n",
       "5                     34                993   3.423968"
      ]
     },
     "execution_count": 50,
     "metadata": {},
     "output_type": "execute_result"
    }
   ],
   "source": [
    "dev_conn_type_df_total_imp = train.groupby('device_conn_type').agg({'click':'count'})\n",
    "dev_conn_type_df = train_clicks.groupby('device_conn_type').agg({'click':'count'})\n",
    "dev_conn_type_df['total_impressions'] = dev_conn_type_df_total_imp['click']\n",
    "dev_conn_type_df['click_pct'] = (dev_conn_type_df['click']/dev_conn_type_df['total_impressions'])*100\n",
    "dev_conn_type_df"
   ]
  },
  {
   "cell_type": "markdown",
   "metadata": {},
   "source": [
    "### App Related Metric Analysis\n",
    "(App_Id, App_Domain, App_Category)"
   ]
  },
  {
   "cell_type": "code",
   "execution_count": 51,
   "metadata": {},
   "outputs": [
    {
     "data": {
      "text/plain": [
       "07d7df22    647196\n",
       "0f2161f8    236827\n",
       "cef3e649     42607\n",
       "8ded1f7a     36351\n",
       "f95efa07     28107\n",
       "d1327cf5      3038\n",
       "dc97ec06      1374\n",
       "09481d60      1314\n",
       "75d80bbe      1002\n",
       "fc6fa53d       587\n",
       "4ce2e9fc       499\n",
       "879c24eb       338\n",
       "a3c42688       263\n",
       "4681bb9d       153\n",
       "0f9a328c       135\n",
       "a86a3e89        60\n",
       "2281a340        52\n",
       "8df2e842        43\n",
       "79f0b860        16\n",
       "a7fd01ec        11\n",
       "0bfbc358         8\n",
       "7113d72a         7\n",
       "2fc4f2aa         6\n",
       "5326cf99         3\n",
       "18b1e0be         2\n",
       "4b7ade46         1\n",
       "86c1a5a3         1\n",
       "Name: app_category, dtype: int64"
      ]
     },
     "execution_count": 51,
     "metadata": {},
     "output_type": "execute_result"
    }
   ],
   "source": [
    "train['app_category'].value_counts()"
   ]
  },
  {
   "cell_type": "code",
   "execution_count": 54,
   "metadata": {},
   "outputs": [
    {
     "data": {
      "text/plain": [
       "<matplotlib.axes._subplots.AxesSubplot at 0x2223e088b48>"
      ]
     },
     "execution_count": 54,
     "metadata": {},
     "output_type": "execute_result"
    },
    {
     "data": {
      "image/png": "[encoded data removed]",
      "text/plain": [
       "<Figure size 432x288 with 1 Axes>"
      ]
     },
     "metadata": {
      "needs_background": "light"
     },
     "output_type": "display_data"
    }
   ],
   "source": [
    "train['app_category'].value_counts().plot(kind='bar', title='App Category v/s Impressions')"
   ]
  },
  {
   "cell_type": "code",
   "execution_count": 55,
   "metadata": {},
   "outputs": [
    {
     "data": {
      "text/plain": [
       "<matplotlib.axes._subplots.AxesSubplot at 0x2228fc4fe88>"
      ]
     },
     "execution_count": 55,
     "metadata": {},
     "output_type": "execute_result"
    },
    {
     "data": {
      "image/png": "[encoded data removed]",
      "text/plain": [
       "<Figure size 432x288 with 1 Axes>"
      ]
     },
     "metadata": {
      "needs_background": "light"
     },
     "output_type": "display_data"
    }
   ],
   "source": [
    "train_clicks['app_category'].value_counts().plot(kind='bar', title='App Category v/s Clicks')"
   ]
  },
  {
   "cell_type": "code",
   "execution_count": 56,
   "metadata": {},
   "outputs": [
    {
     "data": {
      "text/html": [
       "<div>\n",
       "<style scoped>\n",
       "    .dataframe tbody tr th:only-of-type {\n",
       "        vertical-align: middle;\n",
       "    }\n",
       "\n",
       "    .dataframe tbody tr th {\n",
       "        vertical-align: top;\n",
       "    }\n",
       "\n",
       "    .dataframe thead th {\n",
       "        text-align: right;\n",
       "    }\n",
       "</style>\n",
       "<table border=\"1\" class=\"dataframe\">\n",
       "  <thead>\n",
       "    <tr style=\"text-align: right;\">\n",
       "      <th></th>\n",
       "      <th>click</th>\n",
       "      <th>total_impressions</th>\n",
       "      <th>click_pct</th>\n",
       "    </tr>\n",
       "    <tr>\n",
       "      <th>app_category</th>\n",
       "      <th></th>\n",
       "      <th></th>\n",
       "      <th></th>\n",
       "    </tr>\n",
       "  </thead>\n",
       "  <tbody>\n",
       "    <tr>\n",
       "      <th>a7fd01ec</th>\n",
       "      <td>4</td>\n",
       "      <td>11</td>\n",
       "      <td>36.363636</td>\n",
       "    </tr>\n",
       "    <tr>\n",
       "      <th>f95efa07</th>\n",
       "      <td>6981</td>\n",
       "      <td>28107</td>\n",
       "      <td>24.837229</td>\n",
       "    </tr>\n",
       "    <tr>\n",
       "      <th>8df2e842</th>\n",
       "      <td>9</td>\n",
       "      <td>43</td>\n",
       "      <td>20.930233</td>\n",
       "    </tr>\n",
       "    <tr>\n",
       "      <th>0f9a328c</th>\n",
       "      <td>27</td>\n",
       "      <td>135</td>\n",
       "      <td>20.000000</td>\n",
       "    </tr>\n",
       "    <tr>\n",
       "      <th>07d7df22</th>\n",
       "      <td>128666</td>\n",
       "      <td>647196</td>\n",
       "      <td>19.880531</td>\n",
       "    </tr>\n",
       "    <tr>\n",
       "      <th>09481d60</th>\n",
       "      <td>212</td>\n",
       "      <td>1314</td>\n",
       "      <td>16.133942</td>\n",
       "    </tr>\n",
       "    <tr>\n",
       "      <th>dc97ec06</th>\n",
       "      <td>208</td>\n",
       "      <td>1374</td>\n",
       "      <td>15.138282</td>\n",
       "    </tr>\n",
       "    <tr>\n",
       "      <th>4ce2e9fc</th>\n",
       "      <td>74</td>\n",
       "      <td>499</td>\n",
       "      <td>14.829659</td>\n",
       "    </tr>\n",
       "    <tr>\n",
       "      <th>d1327cf5</th>\n",
       "      <td>386</td>\n",
       "      <td>3038</td>\n",
       "      <td>12.705727</td>\n",
       "    </tr>\n",
       "    <tr>\n",
       "      <th>a86a3e89</th>\n",
       "      <td>7</td>\n",
       "      <td>60</td>\n",
       "      <td>11.666667</td>\n",
       "    </tr>\n",
       "    <tr>\n",
       "      <th>879c24eb</th>\n",
       "      <td>38</td>\n",
       "      <td>338</td>\n",
       "      <td>11.242604</td>\n",
       "    </tr>\n",
       "    <tr>\n",
       "      <th>0f2161f8</th>\n",
       "      <td>25715</td>\n",
       "      <td>236827</td>\n",
       "      <td>10.858137</td>\n",
       "    </tr>\n",
       "    <tr>\n",
       "      <th>4681bb9d</th>\n",
       "      <td>16</td>\n",
       "      <td>153</td>\n",
       "      <td>10.457516</td>\n",
       "    </tr>\n",
       "    <tr>\n",
       "      <th>cef3e649</th>\n",
       "      <td>3947</td>\n",
       "      <td>42607</td>\n",
       "      <td>9.263736</td>\n",
       "    </tr>\n",
       "    <tr>\n",
       "      <th>75d80bbe</th>\n",
       "      <td>88</td>\n",
       "      <td>1002</td>\n",
       "      <td>8.782435</td>\n",
       "    </tr>\n",
       "    <tr>\n",
       "      <th>8ded1f7a</th>\n",
       "      <td>3168</td>\n",
       "      <td>36351</td>\n",
       "      <td>8.715028</td>\n",
       "    </tr>\n",
       "    <tr>\n",
       "      <th>79f0b860</th>\n",
       "      <td>1</td>\n",
       "      <td>16</td>\n",
       "      <td>6.250000</td>\n",
       "    </tr>\n",
       "    <tr>\n",
       "      <th>fc6fa53d</th>\n",
       "      <td>36</td>\n",
       "      <td>587</td>\n",
       "      <td>6.132879</td>\n",
       "    </tr>\n",
       "    <tr>\n",
       "      <th>a3c42688</th>\n",
       "      <td>9</td>\n",
       "      <td>263</td>\n",
       "      <td>3.422053</td>\n",
       "    </tr>\n",
       "  </tbody>\n",
       "</table>\n",
       "</div>"
      ],
      "text/plain": [
       "               click  total_impressions  click_pct\n",
       "app_category                                      \n",
       "a7fd01ec           4                 11  36.363636\n",
       "f95efa07        6981              28107  24.837229\n",
       "8df2e842           9                 43  20.930233\n",
       "0f9a328c          27                135  20.000000\n",
       "07d7df22      128666             647196  19.880531\n",
       "09481d60         212               1314  16.133942\n",
       "dc97ec06         208               1374  15.138282\n",
       "4ce2e9fc          74                499  14.829659\n",
       "d1327cf5         386               3038  12.705727\n",
       "a86a3e89           7                 60  11.666667\n",
       "879c24eb          38                338  11.242604\n",
       "0f2161f8       25715             236827  10.858137\n",
       "4681bb9d          16                153  10.457516\n",
       "cef3e649        3947              42607   9.263736\n",
       "75d80bbe          88               1002   8.782435\n",
       "8ded1f7a        3168              36351   8.715028\n",
       "79f0b860           1                 16   6.250000\n",
       "fc6fa53d          36                587   6.132879\n",
       "a3c42688           9                263   3.422053"
      ]
     },
     "execution_count": 56,
     "metadata": {},
     "output_type": "execute_result"
    }
   ],
   "source": [
    "app_cat_df_total_imp = train.groupby('app_category').agg({'click':'count'})\n",
    "app_cat_df = train_clicks.groupby('app_category').agg({'click':'count'})\n",
    "app_cat_df['total_impressions'] = app_cat_df_total_imp['click']\n",
    "app_cat_df['click_pct'] = (app_cat_df['click']/app_cat_df['total_impressions'])*100\n",
    "app_cat_df.sort_values('click_pct',ascending=False)"
   ]
  },
  {
   "cell_type": "markdown",
   "metadata": {},
   "source": [
    "### Site Related Metric Analysis\n",
    "(site_id, site_domain, site_category)"
   ]
  },
  {
   "cell_type": "code",
   "execution_count": 57,
   "metadata": {},
   "outputs": [
    {
     "data": {
      "text/plain": [
       "<matplotlib.axes._subplots.AxesSubplot at 0x2228fd0a6c8>"
      ]
     },
     "execution_count": 57,
     "metadata": {},
     "output_type": "execute_result"
    },
    {
     "data": {
      "image/png": "[encoded data removed]",
      "text/plain": [
       "<Figure size 432x288 with 1 Axes>"
      ]
     },
     "metadata": {
      "needs_background": "light"
     },
     "output_type": "display_data"
    }
   ],
   "source": [
    "train_data['site_category'].value_counts().plot(kind='bar', title='Site Category v/s Impressions')"
   ]
  },
  {
   "cell_type": "code",
   "execution_count": 58,
   "metadata": {},
   "outputs": [
    {
     "data": {
      "text/plain": [
       "<matplotlib.axes._subplots.AxesSubplot at 0x2228fdb2f48>"
      ]
     },
     "execution_count": 58,
     "metadata": {},
     "output_type": "execute_result"
    },
    {
     "data": {
      "image/png": "[encoded data removed]",
      "text/plain": [
       "<Figure size 432x288 with 1 Axes>"
      ]
     },
     "metadata": {
      "needs_background": "light"
     },
     "output_type": "display_data"
    }
   ],
   "source": [
    "train_clicks['site_category'].value_counts().plot(kind='bar', title='Site Category v/s Clicks')"
   ]
  },
  {
   "cell_type": "code",
   "execution_count": 59,
   "metadata": {},
   "outputs": [
    {
     "data": {
      "text/html": [
       "<div>\n",
       "<style scoped>\n",
       "    .dataframe tbody tr th:only-of-type {\n",
       "        vertical-align: middle;\n",
       "    }\n",
       "\n",
       "    .dataframe tbody tr th {\n",
       "        vertical-align: top;\n",
       "    }\n",
       "\n",
       "    .dataframe thead th {\n",
       "        text-align: right;\n",
       "    }\n",
       "</style>\n",
       "<table border=\"1\" class=\"dataframe\">\n",
       "  <thead>\n",
       "    <tr style=\"text-align: right;\">\n",
       "      <th></th>\n",
       "      <th>click</th>\n",
       "      <th>total_impressions</th>\n",
       "      <th>click_pct</th>\n",
       "    </tr>\n",
       "    <tr>\n",
       "      <th>site_category</th>\n",
       "      <th></th>\n",
       "      <th></th>\n",
       "      <th></th>\n",
       "    </tr>\n",
       "  </thead>\n",
       "  <tbody>\n",
       "    <tr>\n",
       "      <th>dedf689d</th>\n",
       "      <td>326</td>\n",
       "      <td>627</td>\n",
       "      <td>51.993620</td>\n",
       "    </tr>\n",
       "    <tr>\n",
       "      <th>3e814130</th>\n",
       "      <td>21578</td>\n",
       "      <td>75676</td>\n",
       "      <td>28.513664</td>\n",
       "    </tr>\n",
       "    <tr>\n",
       "      <th>28905ebd</th>\n",
       "      <td>37742</td>\n",
       "      <td>182621</td>\n",
       "      <td>20.666846</td>\n",
       "    </tr>\n",
       "    <tr>\n",
       "      <th>42a36e14</th>\n",
       "      <td>14</td>\n",
       "      <td>73</td>\n",
       "      <td>19.178082</td>\n",
       "    </tr>\n",
       "    <tr>\n",
       "      <th>f028772b</th>\n",
       "      <td>56071</td>\n",
       "      <td>313213</td>\n",
       "      <td>17.901875</td>\n",
       "    </tr>\n",
       "    <tr>\n",
       "      <th>5378d028</th>\n",
       "      <td>1</td>\n",
       "      <td>7</td>\n",
       "      <td>14.285714</td>\n",
       "    </tr>\n",
       "    <tr>\n",
       "      <th>70fb0e29</th>\n",
       "      <td>79</td>\n",
       "      <td>566</td>\n",
       "      <td>13.957597</td>\n",
       "    </tr>\n",
       "    <tr>\n",
       "      <th>50e219e0</th>\n",
       "      <td>52481</td>\n",
       "      <td>408493</td>\n",
       "      <td>12.847466</td>\n",
       "    </tr>\n",
       "    <tr>\n",
       "      <th>75fa27f6</th>\n",
       "      <td>440</td>\n",
       "      <td>3946</td>\n",
       "      <td>11.150532</td>\n",
       "    </tr>\n",
       "    <tr>\n",
       "      <th>c0dd3be3</th>\n",
       "      <td>99</td>\n",
       "      <td>967</td>\n",
       "      <td>10.237849</td>\n",
       "    </tr>\n",
       "    <tr>\n",
       "      <th>335d28a8</th>\n",
       "      <td>349</td>\n",
       "      <td>3412</td>\n",
       "      <td>10.228605</td>\n",
       "    </tr>\n",
       "    <tr>\n",
       "      <th>e787de0e</th>\n",
       "      <td>3</td>\n",
       "      <td>31</td>\n",
       "      <td>9.677419</td>\n",
       "    </tr>\n",
       "    <tr>\n",
       "      <th>72722551</th>\n",
       "      <td>49</td>\n",
       "      <td>700</td>\n",
       "      <td>7.000000</td>\n",
       "    </tr>\n",
       "    <tr>\n",
       "      <th>0569f928</th>\n",
       "      <td>28</td>\n",
       "      <td>438</td>\n",
       "      <td>6.392694</td>\n",
       "    </tr>\n",
       "    <tr>\n",
       "      <th>f66779e6</th>\n",
       "      <td>245</td>\n",
       "      <td>6363</td>\n",
       "      <td>3.850385</td>\n",
       "    </tr>\n",
       "    <tr>\n",
       "      <th>76b2941d</th>\n",
       "      <td>86</td>\n",
       "      <td>2549</td>\n",
       "      <td>3.373872</td>\n",
       "    </tr>\n",
       "    <tr>\n",
       "      <th>bcf865d9</th>\n",
       "      <td>1</td>\n",
       "      <td>33</td>\n",
       "      <td>3.030303</td>\n",
       "    </tr>\n",
       "  </tbody>\n",
       "</table>\n",
       "</div>"
      ],
      "text/plain": [
       "               click  total_impressions  click_pct\n",
       "site_category                                     \n",
       "dedf689d         326                627  51.993620\n",
       "3e814130       21578              75676  28.513664\n",
       "28905ebd       37742             182621  20.666846\n",
       "42a36e14          14                 73  19.178082\n",
       "f028772b       56071             313213  17.901875\n",
       "5378d028           1                  7  14.285714\n",
       "70fb0e29          79                566  13.957597\n",
       "50e219e0       52481             408493  12.847466\n",
       "75fa27f6         440               3946  11.150532\n",
       "c0dd3be3          99                967  10.237849\n",
       "335d28a8         349               3412  10.228605\n",
       "e787de0e           3                 31   9.677419\n",
       "72722551          49                700   7.000000\n",
       "0569f928          28                438   6.392694\n",
       "f66779e6         245               6363   3.850385\n",
       "76b2941d          86               2549   3.373872\n",
       "bcf865d9           1                 33   3.030303"
      ]
     },
     "execution_count": 59,
     "metadata": {},
     "output_type": "execute_result"
    }
   ],
   "source": [
    "site_cat_df_total_imp = train.groupby('site_category').agg({'click':'count'})\n",
    "site_cat_df = train_clicks.groupby('site_category').agg({'click':'count'})\n",
    "site_cat_df['total_impressions'] = site_cat_df_total_imp['click']\n",
    "site_cat_df['click_pct'] = (site_cat_df['click']/site_cat_df['total_impressions'])*100\n",
    "site_cat_df.sort_values('click_pct',ascending=False)"
   ]
  },
  {
   "cell_type": "markdown",
   "metadata": {},
   "source": [
    "# C1, C14-C21 features"
   ]
  },
  {
   "cell_type": "code",
   "execution_count": 61,
   "metadata": {},
   "outputs": [
    {
     "data": {
      "text/html": [
       "<div>\n",
       "<style scoped>\n",
       "    .dataframe tbody tr th:only-of-type {\n",
       "        vertical-align: middle;\n",
       "    }\n",
       "\n",
       "    .dataframe tbody tr th {\n",
       "        vertical-align: top;\n",
       "    }\n",
       "\n",
       "    .dataframe thead th {\n",
       "        text-align: right;\n",
       "    }\n",
       "</style>\n",
       "<table border=\"1\" class=\"dataframe\">\n",
       "  <thead>\n",
       "    <tr style=\"text-align: right;\">\n",
       "      <th></th>\n",
       "      <th>C1</th>\n",
       "      <th>C14</th>\n",
       "      <th>C15</th>\n",
       "      <th>C16</th>\n",
       "      <th>C17</th>\n",
       "      <th>C18</th>\n",
       "      <th>C19</th>\n",
       "      <th>C20</th>\n",
       "      <th>C21</th>\n",
       "    </tr>\n",
       "  </thead>\n",
       "  <tbody>\n",
       "    <tr>\n",
       "      <th>count</th>\n",
       "      <td>1000001</td>\n",
       "      <td>1000001</td>\n",
       "      <td>1000001</td>\n",
       "      <td>1000001</td>\n",
       "      <td>1000001</td>\n",
       "      <td>1000001</td>\n",
       "      <td>1000001</td>\n",
       "      <td>1000001</td>\n",
       "      <td>1000001</td>\n",
       "    </tr>\n",
       "    <tr>\n",
       "      <th>unique</th>\n",
       "      <td>7</td>\n",
       "      <td>2240</td>\n",
       "      <td>8</td>\n",
       "      <td>9</td>\n",
       "      <td>422</td>\n",
       "      <td>4</td>\n",
       "      <td>66</td>\n",
       "      <td>163</td>\n",
       "      <td>60</td>\n",
       "    </tr>\n",
       "    <tr>\n",
       "      <th>top</th>\n",
       "      <td>1005</td>\n",
       "      <td>4687</td>\n",
       "      <td>320</td>\n",
       "      <td>50</td>\n",
       "      <td>1722</td>\n",
       "      <td>0</td>\n",
       "      <td>35</td>\n",
       "      <td>-1</td>\n",
       "      <td>23</td>\n",
       "    </tr>\n",
       "    <tr>\n",
       "      <th>freq</th>\n",
       "      <td>918286</td>\n",
       "      <td>23549</td>\n",
       "      <td>932807</td>\n",
       "      <td>943437</td>\n",
       "      <td>111307</td>\n",
       "      <td>419196</td>\n",
       "      <td>300998</td>\n",
       "      <td>468083</td>\n",
       "      <td>219602</td>\n",
       "    </tr>\n",
       "  </tbody>\n",
       "</table>\n",
       "</div>"
      ],
      "text/plain": [
       "             C1      C14      C15      C16      C17      C18      C19  \\\n",
       "count   1000001  1000001  1000001  1000001  1000001  1000001  1000001   \n",
       "unique        7     2240        8        9      422        4       66   \n",
       "top        1005     4687      320       50     1722        0       35   \n",
       "freq     918286    23549   932807   943437   111307   419196   300998   \n",
       "\n",
       "            C20      C21  \n",
       "count   1000001  1000001  \n",
       "unique      163       60  \n",
       "top          -1       23  \n",
       "freq     468083   219602  "
      ]
     },
     "execution_count": 61,
     "metadata": {},
     "output_type": "execute_result"
    }
   ],
   "source": [
    "features = ['C1', 'C14', 'C15', 'C16', 'C17', 'C18', 'C19', 'C20', 'C21']\n",
    "\n",
    "train_data[features].astype('object').describe()"
   ]
  },
  {
   "cell_type": "code",
   "execution_count": 62,
   "metadata": {},
   "outputs": [
    {
     "data": {
      "text/plain": [
       "<matplotlib.axes._subplots.AxesSubplot at 0x222922ae108>"
      ]
     },
     "execution_count": 62,
     "metadata": {},
     "output_type": "execute_result"
    },
    {
     "data": {
      "image/png": "[encoded data removed]",
      "text/plain": [
       "<Figure size 432x288 with 1 Axes>"
      ]
     },
     "metadata": {
      "needs_background": "light"
     },
     "output_type": "display_data"
    },
    {
     "data": {
      "image/png": "[encoded data removed]",
      "text/plain": [
       "<Figure size 432x288 with 1 Axes>"
      ]
     },
     "metadata": {
      "needs_background": "light"
     },
     "output_type": "display_data"
    },
    {
     "data": {
      "image/png": "[encoded data removed]",
      "text/plain": [
       "<Figure size 432x288 with 1 Axes>"
      ]
     },
     "metadata": {
      "needs_background": "light"
     },
     "output_type": "display_data"
    },
    {
     "data": {
      "image/png": "[encoded data removed]",
      "text/plain": [
       "<Figure size 432x288 with 1 Axes>"
      ]
     },
     "metadata": {
      "needs_background": "light"
     },
     "output_type": "display_data"
    }
   ],
   "source": [
    "train.groupby(['C1', 'click']).size().unstack().plot(kind='bar', stacked=True, title='C1 histogram')\n",
    "train.groupby(['C15', 'click']).size().unstack().plot(kind='bar', stacked=True, title='C15 histogram')\n",
    "train.groupby(['C16', 'click']).size().unstack().plot(kind='bar', stacked=True, title='C16 histogram')\n",
    "train.groupby(['C18', 'click']).size().unstack().plot(kind='bar', stacked=True, title='C18 histogram')"
   ]
  },
  {
   "cell_type": "markdown",
   "metadata": {},
   "source": [
    "# Model Selection"
   ]
  },
  {
   "cell_type": "code",
   "execution_count": 67,
   "metadata": {},
   "outputs": [
    {
     "data": {
      "text/html": [
       "<div>\n",
       "<style scoped>\n",
       "    .dataframe tbody tr th:only-of-type {\n",
       "        vertical-align: middle;\n",
       "    }\n",
       "\n",
       "    .dataframe tbody tr th {\n",
       "        vertical-align: top;\n",
       "    }\n",
       "\n",
       "    .dataframe thead th {\n",
       "        text-align: right;\n",
       "    }\n",
       "</style>\n",
       "<table border=\"1\" class=\"dataframe\">\n",
       "  <thead>\n",
       "    <tr style=\"text-align: right;\">\n",
       "      <th></th>\n",
       "      <th>click</th>\n",
       "      <th>hour</th>\n",
       "      <th>C1</th>\n",
       "      <th>banner_pos</th>\n",
       "      <th>site_category</th>\n",
       "      <th>app_category</th>\n",
       "      <th>device_type</th>\n",
       "      <th>device_conn_type</th>\n",
       "      <th>C14</th>\n",
       "      <th>C15</th>\n",
       "      <th>C16</th>\n",
       "      <th>C17</th>\n",
       "      <th>C18</th>\n",
       "      <th>C19</th>\n",
       "      <th>C20</th>\n",
       "      <th>C21</th>\n",
       "      <th>day_of_week</th>\n",
       "    </tr>\n",
       "  </thead>\n",
       "  <tbody>\n",
       "    <tr>\n",
       "      <th>0</th>\n",
       "      <td>0</td>\n",
       "      <td>0</td>\n",
       "      <td>1005</td>\n",
       "      <td>1</td>\n",
       "      <td>f028772b</td>\n",
       "      <td>07d7df22</td>\n",
       "      <td>1</td>\n",
       "      <td>0</td>\n",
       "      <td>20632</td>\n",
       "      <td>320</td>\n",
       "      <td>50</td>\n",
       "      <td>2374</td>\n",
       "      <td>3</td>\n",
       "      <td>39</td>\n",
       "      <td>-1</td>\n",
       "      <td>23</td>\n",
       "      <td>1</td>\n",
       "    </tr>\n",
       "    <tr>\n",
       "      <th>1</th>\n",
       "      <td>1</td>\n",
       "      <td>0</td>\n",
       "      <td>1005</td>\n",
       "      <td>0</td>\n",
       "      <td>50e219e0</td>\n",
       "      <td>75d80bbe</td>\n",
       "      <td>1</td>\n",
       "      <td>2</td>\n",
       "      <td>18993</td>\n",
       "      <td>320</td>\n",
       "      <td>50</td>\n",
       "      <td>2161</td>\n",
       "      <td>0</td>\n",
       "      <td>35</td>\n",
       "      <td>100131</td>\n",
       "      <td>157</td>\n",
       "      <td>1</td>\n",
       "    </tr>\n",
       "    <tr>\n",
       "      <th>2</th>\n",
       "      <td>1</td>\n",
       "      <td>0</td>\n",
       "      <td>1005</td>\n",
       "      <td>0</td>\n",
       "      <td>28905ebd</td>\n",
       "      <td>07d7df22</td>\n",
       "      <td>1</td>\n",
       "      <td>0</td>\n",
       "      <td>15701</td>\n",
       "      <td>320</td>\n",
       "      <td>50</td>\n",
       "      <td>1722</td>\n",
       "      <td>0</td>\n",
       "      <td>35</td>\n",
       "      <td>100084</td>\n",
       "      <td>79</td>\n",
       "      <td>1</td>\n",
       "    </tr>\n",
       "    <tr>\n",
       "      <th>3</th>\n",
       "      <td>0</td>\n",
       "      <td>0</td>\n",
       "      <td>1005</td>\n",
       "      <td>0</td>\n",
       "      <td>f028772b</td>\n",
       "      <td>07d7df22</td>\n",
       "      <td>1</td>\n",
       "      <td>0</td>\n",
       "      <td>16859</td>\n",
       "      <td>320</td>\n",
       "      <td>50</td>\n",
       "      <td>1887</td>\n",
       "      <td>3</td>\n",
       "      <td>39</td>\n",
       "      <td>-1</td>\n",
       "      <td>23</td>\n",
       "      <td>1</td>\n",
       "    </tr>\n",
       "    <tr>\n",
       "      <th>4</th>\n",
       "      <td>0</td>\n",
       "      <td>0</td>\n",
       "      <td>1010</td>\n",
       "      <td>1</td>\n",
       "      <td>50e219e0</td>\n",
       "      <td>0f2161f8</td>\n",
       "      <td>4</td>\n",
       "      <td>0</td>\n",
       "      <td>21665</td>\n",
       "      <td>320</td>\n",
       "      <td>50</td>\n",
       "      <td>2493</td>\n",
       "      <td>3</td>\n",
       "      <td>35</td>\n",
       "      <td>-1</td>\n",
       "      <td>117</td>\n",
       "      <td>1</td>\n",
       "    </tr>\n",
       "  </tbody>\n",
       "</table>\n",
       "</div>"
      ],
      "text/plain": [
       "   click  hour    C1  banner_pos site_category app_category  device_type  \\\n",
       "0      0     0  1005           1      f028772b     07d7df22            1   \n",
       "1      1     0  1005           0      50e219e0     75d80bbe            1   \n",
       "2      1     0  1005           0      28905ebd     07d7df22            1   \n",
       "3      0     0  1005           0      f028772b     07d7df22            1   \n",
       "4      0     0  1010           1      50e219e0     0f2161f8            4   \n",
       "\n",
       "   device_conn_type    C14  C15  C16   C17  C18  C19     C20  C21  day_of_week  \n",
       "0                 0  20632  320   50  2374    3   39      -1   23            1  \n",
       "1                 2  18993  320   50  2161    0   35  100131  157            1  \n",
       "2                 0  15701  320   50  1722    0   35  100084   79            1  \n",
       "3                 0  16859  320   50  1887    3   39      -1   23            1  \n",
       "4                 0  21665  320   50  2493    3   35      -1  117            1  "
      ]
     },
     "execution_count": 67,
     "metadata": {},
     "output_type": "execute_result"
    }
   ],
   "source": [
    "cols= ['click', 'hour', 'C1', 'banner_pos', 'site_category', 'app_category', 'device_type', 'device_conn_type', 'C14',\n",
    "       'C15', 'C16', 'C17', 'C18', 'C19', 'C20', 'C21', 'day_of_week']\n",
    "train[cols].head()"
   ]
  },
  {
   "cell_type": "code",
   "execution_count": 68,
   "metadata": {},
   "outputs": [],
   "source": [
    "def one_hot_features(data_frame, feature_set):\n",
    "    new_data_frame = pd.get_dummies(data_frame,\n",
    "                                     columns = feature_set,\n",
    "                                    sparse = True)\n",
    "\n",
    "    return new_data_frame\n",
    "train_model = one_hot_features(train[cols],\n",
    "                                ['site_category',\n",
    "                                 'app_category',\n",
    "                                 'banner_pos'])"
   ]
  },
  {
   "cell_type": "code",
   "execution_count": 70,
   "metadata": {},
   "outputs": [
    {
     "data": {
      "text/html": [
       "<div>\n",
       "<style scoped>\n",
       "    .dataframe tbody tr th:only-of-type {\n",
       "        vertical-align: middle;\n",
       "    }\n",
       "\n",
       "    .dataframe tbody tr th {\n",
       "        vertical-align: top;\n",
       "    }\n",
       "\n",
       "    .dataframe thead th {\n",
       "        text-align: right;\n",
       "    }\n",
       "</style>\n",
       "<table border=\"1\" class=\"dataframe\">\n",
       "  <thead>\n",
       "    <tr style=\"text-align: right;\">\n",
       "      <th></th>\n",
       "      <th>click</th>\n",
       "      <th>hour</th>\n",
       "      <th>C1</th>\n",
       "      <th>device_type</th>\n",
       "      <th>device_conn_type</th>\n",
       "      <th>C14</th>\n",
       "      <th>C15</th>\n",
       "      <th>C16</th>\n",
       "      <th>C17</th>\n",
       "      <th>C18</th>\n",
       "      <th>...</th>\n",
       "      <th>app_category_dc97ec06</th>\n",
       "      <th>app_category_f95efa07</th>\n",
       "      <th>app_category_fc6fa53d</th>\n",
       "      <th>banner_pos_0</th>\n",
       "      <th>banner_pos_1</th>\n",
       "      <th>banner_pos_2</th>\n",
       "      <th>banner_pos_3</th>\n",
       "      <th>banner_pos_4</th>\n",
       "      <th>banner_pos_5</th>\n",
       "      <th>banner_pos_7</th>\n",
       "    </tr>\n",
       "  </thead>\n",
       "  <tbody>\n",
       "    <tr>\n",
       "      <th>0</th>\n",
       "      <td>0</td>\n",
       "      <td>0</td>\n",
       "      <td>1005</td>\n",
       "      <td>1</td>\n",
       "      <td>0</td>\n",
       "      <td>20632</td>\n",
       "      <td>320</td>\n",
       "      <td>50</td>\n",
       "      <td>2374</td>\n",
       "      <td>3</td>\n",
       "      <td>...</td>\n",
       "      <td>0</td>\n",
       "      <td>0</td>\n",
       "      <td>0</td>\n",
       "      <td>0</td>\n",
       "      <td>1</td>\n",
       "      <td>0</td>\n",
       "      <td>0</td>\n",
       "      <td>0</td>\n",
       "      <td>0</td>\n",
       "      <td>0</td>\n",
       "    </tr>\n",
       "    <tr>\n",
       "      <th>1</th>\n",
       "      <td>1</td>\n",
       "      <td>0</td>\n",
       "      <td>1005</td>\n",
       "      <td>1</td>\n",
       "      <td>2</td>\n",
       "      <td>18993</td>\n",
       "      <td>320</td>\n",
       "      <td>50</td>\n",
       "      <td>2161</td>\n",
       "      <td>0</td>\n",
       "      <td>...</td>\n",
       "      <td>0</td>\n",
       "      <td>0</td>\n",
       "      <td>0</td>\n",
       "      <td>1</td>\n",
       "      <td>0</td>\n",
       "      <td>0</td>\n",
       "      <td>0</td>\n",
       "      <td>0</td>\n",
       "      <td>0</td>\n",
       "      <td>0</td>\n",
       "    </tr>\n",
       "    <tr>\n",
       "      <th>2</th>\n",
       "      <td>1</td>\n",
       "      <td>0</td>\n",
       "      <td>1005</td>\n",
       "      <td>1</td>\n",
       "      <td>0</td>\n",
       "      <td>15701</td>\n",
       "      <td>320</td>\n",
       "      <td>50</td>\n",
       "      <td>1722</td>\n",
       "      <td>0</td>\n",
       "      <td>...</td>\n",
       "      <td>0</td>\n",
       "      <td>0</td>\n",
       "      <td>0</td>\n",
       "      <td>1</td>\n",
       "      <td>0</td>\n",
       "      <td>0</td>\n",
       "      <td>0</td>\n",
       "      <td>0</td>\n",
       "      <td>0</td>\n",
       "      <td>0</td>\n",
       "    </tr>\n",
       "    <tr>\n",
       "      <th>3</th>\n",
       "      <td>0</td>\n",
       "      <td>0</td>\n",
       "      <td>1005</td>\n",
       "      <td>1</td>\n",
       "      <td>0</td>\n",
       "      <td>16859</td>\n",
       "      <td>320</td>\n",
       "      <td>50</td>\n",
       "      <td>1887</td>\n",
       "      <td>3</td>\n",
       "      <td>...</td>\n",
       "      <td>0</td>\n",
       "      <td>0</td>\n",
       "      <td>0</td>\n",
       "      <td>1</td>\n",
       "      <td>0</td>\n",
       "      <td>0</td>\n",
       "      <td>0</td>\n",
       "      <td>0</td>\n",
       "      <td>0</td>\n",
       "      <td>0</td>\n",
       "    </tr>\n",
       "    <tr>\n",
       "      <th>4</th>\n",
       "      <td>0</td>\n",
       "      <td>0</td>\n",
       "      <td>1010</td>\n",
       "      <td>4</td>\n",
       "      <td>0</td>\n",
       "      <td>21665</td>\n",
       "      <td>320</td>\n",
       "      <td>50</td>\n",
       "      <td>2493</td>\n",
       "      <td>3</td>\n",
       "      <td>...</td>\n",
       "      <td>0</td>\n",
       "      <td>0</td>\n",
       "      <td>0</td>\n",
       "      <td>0</td>\n",
       "      <td>1</td>\n",
       "      <td>0</td>\n",
       "      <td>0</td>\n",
       "      <td>0</td>\n",
       "      <td>0</td>\n",
       "      <td>0</td>\n",
       "    </tr>\n",
       "    <tr>\n",
       "      <th>...</th>\n",
       "      <td>...</td>\n",
       "      <td>...</td>\n",
       "      <td>...</td>\n",
       "      <td>...</td>\n",
       "      <td>...</td>\n",
       "      <td>...</td>\n",
       "      <td>...</td>\n",
       "      <td>...</td>\n",
       "      <td>...</td>\n",
       "      <td>...</td>\n",
       "      <td>...</td>\n",
       "      <td>...</td>\n",
       "      <td>...</td>\n",
       "      <td>...</td>\n",
       "      <td>...</td>\n",
       "      <td>...</td>\n",
       "      <td>...</td>\n",
       "      <td>...</td>\n",
       "      <td>...</td>\n",
       "      <td>...</td>\n",
       "      <td>...</td>\n",
       "    </tr>\n",
       "    <tr>\n",
       "      <th>999996</th>\n",
       "      <td>1</td>\n",
       "      <td>23</td>\n",
       "      <td>1005</td>\n",
       "      <td>1</td>\n",
       "      <td>2</td>\n",
       "      <td>22261</td>\n",
       "      <td>320</td>\n",
       "      <td>50</td>\n",
       "      <td>2545</td>\n",
       "      <td>0</td>\n",
       "      <td>...</td>\n",
       "      <td>0</td>\n",
       "      <td>0</td>\n",
       "      <td>0</td>\n",
       "      <td>1</td>\n",
       "      <td>0</td>\n",
       "      <td>0</td>\n",
       "      <td>0</td>\n",
       "      <td>0</td>\n",
       "      <td>0</td>\n",
       "      <td>0</td>\n",
       "    </tr>\n",
       "    <tr>\n",
       "      <th>999997</th>\n",
       "      <td>0</td>\n",
       "      <td>23</td>\n",
       "      <td>1005</td>\n",
       "      <td>1</td>\n",
       "      <td>0</td>\n",
       "      <td>22676</td>\n",
       "      <td>320</td>\n",
       "      <td>50</td>\n",
       "      <td>2616</td>\n",
       "      <td>0</td>\n",
       "      <td>...</td>\n",
       "      <td>0</td>\n",
       "      <td>0</td>\n",
       "      <td>0</td>\n",
       "      <td>1</td>\n",
       "      <td>0</td>\n",
       "      <td>0</td>\n",
       "      <td>0</td>\n",
       "      <td>0</td>\n",
       "      <td>0</td>\n",
       "      <td>0</td>\n",
       "    </tr>\n",
       "    <tr>\n",
       "      <th>999998</th>\n",
       "      <td>0</td>\n",
       "      <td>23</td>\n",
       "      <td>1005</td>\n",
       "      <td>1</td>\n",
       "      <td>0</td>\n",
       "      <td>16859</td>\n",
       "      <td>320</td>\n",
       "      <td>50</td>\n",
       "      <td>1887</td>\n",
       "      <td>3</td>\n",
       "      <td>...</td>\n",
       "      <td>0</td>\n",
       "      <td>0</td>\n",
       "      <td>0</td>\n",
       "      <td>1</td>\n",
       "      <td>0</td>\n",
       "      <td>0</td>\n",
       "      <td>0</td>\n",
       "      <td>0</td>\n",
       "      <td>0</td>\n",
       "      <td>0</td>\n",
       "    </tr>\n",
       "    <tr>\n",
       "      <th>999999</th>\n",
       "      <td>1</td>\n",
       "      <td>23</td>\n",
       "      <td>1005</td>\n",
       "      <td>1</td>\n",
       "      <td>0</td>\n",
       "      <td>16859</td>\n",
       "      <td>320</td>\n",
       "      <td>50</td>\n",
       "      <td>1887</td>\n",
       "      <td>3</td>\n",
       "      <td>...</td>\n",
       "      <td>0</td>\n",
       "      <td>0</td>\n",
       "      <td>0</td>\n",
       "      <td>1</td>\n",
       "      <td>0</td>\n",
       "      <td>0</td>\n",
       "      <td>0</td>\n",
       "      <td>0</td>\n",
       "      <td>0</td>\n",
       "      <td>0</td>\n",
       "    </tr>\n",
       "    <tr>\n",
       "      <th>1000000</th>\n",
       "      <td>0</td>\n",
       "      <td>23</td>\n",
       "      <td>1005</td>\n",
       "      <td>1</td>\n",
       "      <td>0</td>\n",
       "      <td>22257</td>\n",
       "      <td>320</td>\n",
       "      <td>50</td>\n",
       "      <td>2545</td>\n",
       "      <td>0</td>\n",
       "      <td>...</td>\n",
       "      <td>0</td>\n",
       "      <td>0</td>\n",
       "      <td>0</td>\n",
       "      <td>1</td>\n",
       "      <td>0</td>\n",
       "      <td>0</td>\n",
       "      <td>0</td>\n",
       "      <td>0</td>\n",
       "      <td>0</td>\n",
       "      <td>0</td>\n",
       "    </tr>\n",
       "  </tbody>\n",
       "</table>\n",
       "<p>1000001 rows × 68 columns</p>\n",
       "</div>"
      ],
      "text/plain": [
       "         click  hour    C1  device_type  device_conn_type    C14  C15  C16  \\\n",
       "0            0     0  1005            1                 0  20632  320   50   \n",
       "1            1     0  1005            1                 2  18993  320   50   \n",
       "2            1     0  1005            1                 0  15701  320   50   \n",
       "3            0     0  1005            1                 0  16859  320   50   \n",
       "4            0     0  1010            4                 0  21665  320   50   \n",
       "...        ...   ...   ...          ...               ...    ...  ...  ...   \n",
       "999996       1    23  1005            1                 2  22261  320   50   \n",
       "999997       0    23  1005            1                 0  22676  320   50   \n",
       "999998       0    23  1005            1                 0  16859  320   50   \n",
       "999999       1    23  1005            1                 0  16859  320   50   \n",
       "1000000      0    23  1005            1                 0  22257  320   50   \n",
       "\n",
       "          C17  C18  ...  app_category_dc97ec06  app_category_f95efa07  \\\n",
       "0        2374    3  ...                      0                      0   \n",
       "1        2161    0  ...                      0                      0   \n",
       "2        1722    0  ...                      0                      0   \n",
       "3        1887    3  ...                      0                      0   \n",
       "4        2493    3  ...                      0                      0   \n",
       "...       ...  ...  ...                    ...                    ...   \n",
       "999996   2545    0  ...                      0                      0   \n",
       "999997   2616    0  ...                      0                      0   \n",
       "999998   1887    3  ...                      0                      0   \n",
       "999999   1887    3  ...                      0                      0   \n",
       "1000000  2545    0  ...                      0                      0   \n",
       "\n",
       "         app_category_fc6fa53d  banner_pos_0  banner_pos_1  banner_pos_2  \\\n",
       "0                            0             0             1             0   \n",
       "1                            0             1             0             0   \n",
       "2                            0             1             0             0   \n",
       "3                            0             1             0             0   \n",
       "4                            0             0             1             0   \n",
       "...                        ...           ...           ...           ...   \n",
       "999996                       0             1             0             0   \n",
       "999997                       0             1             0             0   \n",
       "999998                       0             1             0             0   \n",
       "999999                       0             1             0             0   \n",
       "1000000                      0             1             0             0   \n",
       "\n",
       "         banner_pos_3  banner_pos_4  banner_pos_5  banner_pos_7  \n",
       "0                   0             0             0             0  \n",
       "1                   0             0             0             0  \n",
       "2                   0             0             0             0  \n",
       "3                   0             0             0             0  \n",
       "4                   0             0             0             0  \n",
       "...               ...           ...           ...           ...  \n",
       "999996              0             0             0             0  \n",
       "999997              0             0             0             0  \n",
       "999998              0             0             0             0  \n",
       "999999              0             0             0             0  \n",
       "1000000             0             0             0             0  \n",
       "\n",
       "[1000001 rows x 68 columns]"
      ]
     },
     "execution_count": 70,
     "metadata": {},
     "output_type": "execute_result"
    }
   ],
   "source": [
    "train_model"
   ]
  },
  {
   "cell_type": "code",
   "execution_count": 71,
   "metadata": {},
   "outputs": [],
   "source": [
    "#Separate target and feature variables\n",
    "X = train_model.drop('click', axis=1)\n",
    "Y= train_model['click']\n",
    "\n",
    "from sklearn.model_selection import train_test_split\n",
    "X_train, X_test, Y_train, Y_test = train_test_split( X, Y, test_size=0.25,random_state=42)"
   ]
  },
  {
   "cell_type": "code",
   "execution_count": 72,
   "metadata": {},
   "outputs": [
    {
     "name": "stdout",
     "output_type": "stream",
     "text": [
      "(750000, 67)\n",
      "(250001, 67)\n",
      "(750000,)\n",
      "(250001,)\n"
     ]
    }
   ],
   "source": [
    "print(X_train.shape)\n",
    "print(X_test.shape)\n",
    "print(Y_train.shape)\n",
    "print(Y_test.shape)"
   ]
  },
  {
   "cell_type": "code",
   "execution_count": 73,
   "metadata": {},
   "outputs": [],
   "source": [
    "from sklearn.model_selection import StratifiedKFold\n",
    "from sklearn.model_selection import GridSearchCV\n",
    "\n",
    "from sklearn.tree import DecisionTreeClassifier\n",
    "from sklearn.linear_model import LogisticRegression\n",
    "from sklearn.feature_selection import SelectFromModel\n",
    "from sklearn.metrics import f1_score, accuracy_score, roc_auc_score, confusion_matrix"
   ]
  },
  {
   "cell_type": "code",
   "execution_count": 74,
   "metadata": {},
   "outputs": [
    {
     "data": {
      "text/plain": [
       "DecisionTreeClassifier(ccp_alpha=0.0, class_weight=None, criterion='gini',\n",
       "                       max_depth=None, max_features=None, max_leaf_nodes=None,\n",
       "                       min_impurity_decrease=0.0, min_impurity_split=None,\n",
       "                       min_samples_leaf=1, min_samples_split=2,\n",
       "                       min_weight_fraction_leaf=0.0, presort='deprecated',\n",
       "                       random_state=None, splitter='best')"
      ]
     },
     "execution_count": 74,
     "metadata": {},
     "output_type": "execute_result"
    }
   ],
   "source": [
    "model= DecisionTreeClassifier()\n",
    "model.fit(X_train, Y_train)"
   ]
  },
  {
   "cell_type": "code",
   "execution_count": 76,
   "metadata": {},
   "outputs": [
    {
     "data": {
      "text/plain": [
       "0.8076647693409227"
      ]
     },
     "execution_count": 76,
     "metadata": {},
     "output_type": "execute_result"
    }
   ],
   "source": [
    "y_predict = model.predict(X_test)\n",
    "accuracy_score(Y_test, y_predict)"
   ]
  },
  {
   "cell_type": "code",
   "execution_count": 78,
   "metadata": {},
   "outputs": [
    {
     "ename": "ModuleNotFoundError",
     "evalue": "No module named 'xgboost'",
     "output_type": "error",
     "traceback": [
      "\u001b[1;31m---------------------------------------------------------------------------\u001b[0m",
      "\u001b[1;31mModuleNotFoundError\u001b[0m                       Traceback (most recent call last)",
      "\u001b[1;32m<ipython-input-78-340495da50ce>\u001b[0m in \u001b[0;36m<module>\u001b[1;34m\u001b[0m\n\u001b[1;32m----> 1\u001b[1;33m \u001b[1;32mfrom\u001b[0m \u001b[0mxgboost\u001b[0m \u001b[1;32mimport\u001b[0m \u001b[0mXGBClassifier\u001b[0m\u001b[1;33m\u001b[0m\u001b[1;33m\u001b[0m\u001b[0m\n\u001b[0m\u001b[0;32m      2\u001b[0m \u001b[1;32mfrom\u001b[0m \u001b[0msklearn\u001b[0m\u001b[1;33m.\u001b[0m\u001b[0mmetrics\u001b[0m \u001b[1;32mimport\u001b[0m \u001b[0mclassification_report\u001b[0m\u001b[1;33m\u001b[0m\u001b[1;33m\u001b[0m\u001b[0m\n\u001b[0;32m      3\u001b[0m \u001b[1;32mimport\u001b[0m \u001b[0mxgboost\u001b[0m\u001b[1;33m\u001b[0m\u001b[1;33m\u001b[0m\u001b[0m\n\u001b[0;32m      4\u001b[0m \u001b[1;33m\u001b[0m\u001b[0m\n",
      "\u001b[1;31mModuleNotFoundError\u001b[0m: No module named 'xgboost'"
     ]
    }
   ],
   "source": [
    "from xgboost import XGBClassifier\n",
    "from sklearn.metrics import classification_report\n",
    "import xgboost\n",
    "\n"
   ]
  },
  {
   "cell_type": "code",
   "execution_count": null,
   "metadata": {},
   "outputs": [],
   "source": []
  }
 ],
 "metadata": {
  "kernelspec": {
   "display_name": "Python 3",
   "language": "python",
   "name": "python3"
  },
  "language_info": {
   "codemirror_mode": {
    "name": "ipython",
    "version": 3
   },
   "file_extension": ".py",
   "mimetype": "text/x-python",
   "name": "python",
   "nbconvert_exporter": "python",
   "pygments_lexer": "ipython3",
   "version": "3.7.6"
  }
 },
 "nbformat": 4,
 "nbformat_minor": 4
}
